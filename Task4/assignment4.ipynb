{
 "cells": [
  {
   "cell_type": "markdown",
   "metadata": {},
   "source": [
    "# Лабораторная работа 4"
   ]
  },
  {
   "cell_type": "markdown",
   "metadata": {},
   "source": [
    "Tensorflow 2.x\n",
    "\n",
    "1) Подготовка данных\n",
    "\n",
    "2) Использование Keras Model API\n",
    "\n",
    "3) Использование Keras Sequential + Functional API"
   ]
  },
  {
   "cell_type": "markdown",
   "metadata": {},
   "source": [
    "https://www.tensorflow.org/tutorials"
   ]
  },
  {
   "cell_type": "markdown",
   "metadata": {},
   "source": [
    "Для выполнения лабораторной работы необходимо установить tensorflow версии 2.0 или выше .\n",
    "\n",
    "Рекомендуется использовать возможности Colab'а по обучению моделей на GPU.\n",
    "\n"
   ]
  },
  {
   "cell_type": "code",
   "metadata": {
    "ExecuteTime": {
     "end_time": "2024-05-04T06:26:17.645811Z",
     "start_time": "2024-05-04T06:26:15.631978Z"
    }
   },
   "source": [
    "import tensorflow as tf\n",
    "import numpy as np\n",
    "from sklearn.datasets import load_digits\n",
    "from sklearn.model_selection import train_test_split\n",
    "\n",
    "image_h = 8\n",
    "image_w = 8\n",
    "image_size = image_h * image_w\n",
    "print_every = 100\n",
    "\n",
    "\n",
    "device = '/CPU:0'"
   ],
   "outputs": [
    {
     "name": "stderr",
     "output_type": "stream",
     "text": [
      "2024-05-04 10:26:15.855571: I external/local_tsl/tsl/cuda/cudart_stub.cc:32] Could not find cuda drivers on your machine, GPU will not be used.\n",
      "2024-05-04 10:26:15.858375: I external/local_tsl/tsl/cuda/cudart_stub.cc:32] Could not find cuda drivers on your machine, GPU will not be used.\n",
      "2024-05-04 10:26:15.889542: I tensorflow/core/platform/cpu_feature_guard.cc:210] This TensorFlow binary is optimized to use available CPU instructions in performance-critical operations.\n",
      "To enable the following instructions: AVX2 FMA, in other operations, rebuild TensorFlow with the appropriate compiler flags.\n",
      "2024-05-04 10:26:16.653994: W tensorflow/compiler/tf2tensorrt/utils/py_utils.cc:38] TF-TRT Warning: Could not find TensorRT\n"
     ]
    }
   ],
   "execution_count": 2
  },
  {
   "cell_type": "markdown",
   "metadata": {},
   "source": [
    "# Подготовка данных\n",
    "Загрузите набор данных из предыдущей лабораторной работы. "
   ]
  },
  {
   "cell_type": "code",
   "metadata": {
    "ExecuteTime": {
     "end_time": "2024-05-04T06:26:17.667036Z",
     "start_time": "2024-05-04T06:26:17.647057Z"
    }
   },
   "source": [
    "def load_dataset(test_proportion=0.2, val_proportion=0.2, flatten=True):\n",
    "    digits = load_digits()\n",
    "    digits_data = digits.data if flatten else digits.data.reshape(digits.data.shape[0], 8, 8, 1)\n",
    "    X_train, X_val, y_train, y_val = train_test_split(digits_data, digits.target, test_size=val_proportion, random_state=1337)\n",
    "    X_train, X_test, y_train, y_test = train_test_split(X_train, y_train, test_size=test_proportion / (1 - val_proportion), random_state=1337)\n",
    "\n",
    "    mean_image = np.mean(X_train, axis=0)\n",
    "\n",
    "    X_train -= mean_image\n",
    "    X_val -= mean_image\n",
    "    X_test -= mean_image\n",
    "\n",
    "    return X_train, y_train, X_val, y_val, X_test, y_test\n",
    "\n",
    "\n",
    "# If there are errors with SSL downloading involving self-signed certificates,\n",
    "# it may be that your Python version was recently installed on the current machine.\n",
    "# See: https://github.com/tensorflow/tensorflow/issues/10779\n",
    "# To fix, run the command: /Applications/Python\\ 3.7/Install\\ Certificates.command\n",
    "#   ...replacing paths as necessary.\n",
    "\n",
    "# Invoke the above function to get our data.\n",
    "NHW = (0, 1, 2)\n",
    "X_train, y_train, X_val, y_val, X_test, y_test = load_dataset(flatten=False)\n",
    "print('Train data shape: ', X_train.shape)\n",
    "print('Train labels shape: ', y_train.shape, y_train.dtype)\n",
    "print('Validation data shape: ', X_val.shape)\n",
    "print('Validation labels shape: ', y_val.shape)\n",
    "print('Test data shape: ', X_test.shape)\n",
    "print('Test labels shape: ', y_test.shape)"
   ],
   "outputs": [
    {
     "name": "stdout",
     "output_type": "stream",
     "text": [
      "Train data shape:  (1077, 8, 8, 1)\n",
      "Train labels shape:  (1077,) int64\n",
      "Validation data shape:  (360, 8, 8, 1)\n",
      "Validation labels shape:  (360,)\n",
      "Test data shape:  (360, 8, 8, 1)\n",
      "Test labels shape:  (360,)\n"
     ]
    }
   ],
   "execution_count": 3
  },
  {
   "cell_type": "code",
   "metadata": {
    "ExecuteTime": {
     "end_time": "2024-05-04T06:26:17.673595Z",
     "start_time": "2024-05-04T06:26:17.668151Z"
    }
   },
   "source": [
    "class Dataset(object):\n",
    "    def __init__(self, X, y, batch_size, shuffle=False):\n",
    "        \"\"\"\n",
    "        Construct a Dataset object to iterate over data X and labels y\n",
    "        \n",
    "        Inputs:\n",
    "        - X: Numpy array of data, of any shape\n",
    "        - y: Numpy array of labels, of any shape but with y.shape[0] == X.shape[0]\n",
    "        - batch_size: Integer giving number of elements per minibatch\n",
    "        - shuffle: (optional) Boolean, whether to shuffle the data on each epoch\n",
    "        \"\"\"\n",
    "        assert X.shape[0] == y.shape[0], 'Got different numbers of data and labels'\n",
    "        self.X, self.y = X, y\n",
    "        self.batch_size, self.shuffle = batch_size, shuffle\n",
    "\n",
    "    def __iter__(self):\n",
    "        N, B = self.X.shape[0], self.batch_size\n",
    "        idxs = np.arange(N)\n",
    "        if self.shuffle:\n",
    "            np.random.shuffle(idxs)\n",
    "        return iter((self.X[i:i+B], self.y[i:i+B]) for i in range(0, N, B))\n",
    "\n",
    "\n",
    "train_dset = Dataset(X_train, y_train, batch_size=64, shuffle=True)\n",
    "val_dset = Dataset(X_val, y_val, batch_size=64)\n",
    "test_dset = Dataset(X_test, y_test, batch_size=64)"
   ],
   "outputs": [],
   "execution_count": 4
  },
  {
   "cell_type": "code",
   "metadata": {
    "ExecuteTime": {
     "end_time": "2024-05-04T06:26:17.687031Z",
     "start_time": "2024-05-04T06:26:17.675157Z"
    }
   },
   "source": [
    "# We can iterate through a dataset like this:\n",
    "for t, (x, y) in enumerate(train_dset):\n",
    "    print(t, x.shape, y.shape)\n",
    "    if t > 5: break"
   ],
   "outputs": [
    {
     "name": "stdout",
     "output_type": "stream",
     "text": [
      "0 (64, 8, 8, 1) (64,)\n",
      "1 (64, 8, 8, 1) (64,)\n",
      "2 (64, 8, 8, 1) (64,)\n",
      "3 (64, 8, 8, 1) (64,)\n",
      "4 (64, 8, 8, 1) (64,)\n",
      "5 (64, 8, 8, 1) (64,)\n",
      "6 (64, 8, 8, 1) (64,)\n"
     ]
    }
   ],
   "execution_count": 5
  },
  {
   "cell_type": "markdown",
   "metadata": {},
   "source": []
  },
  {
   "cell_type": "markdown",
   "metadata": {},
   "source": [
    "\n"
   ]
  },
  {
   "cell_type": "markdown",
   "metadata": {},
   "source": [
    "#  Keras Model Subclassing API"
   ]
  },
  {
   "cell_type": "markdown",
   "metadata": {},
   "source": [
    "\n",
    "Для реализации собственной модели с помощью Keras Model Subclassing API необходимо выполнить следующие шаги:\n",
    "\n",
    "1) Определить новый класс, который является наследником tf.keras.Model.\n",
    "\n",
    "2) В методе __init__() определить все необходимые слои из модуля tf.keras.layer\n",
    "\n",
    "3) Реализовать прямой проход в методе call() на основе слоев, объявленных в __init__()\n",
    "\n",
    "Ниже приведен пример использования keras API для определения двухслойной полносвязной сети. \n",
    "\n",
    "https://www.tensorflow.org/versions/r2.0/api_docs/python/tf/keras"
   ]
  },
  {
   "cell_type": "code",
   "metadata": {
    "ExecuteTime": {
     "end_time": "2024-05-04T06:26:17.753708Z",
     "start_time": "2024-05-04T06:26:17.687975Z"
    }
   },
   "source": [
    "class TwoLayerFC(tf.keras.Model):\n",
    "    def __init__(self, hidden_size, num_classes):\n",
    "        super(TwoLayerFC, self).__init__()        \n",
    "        initializer = tf.initializers.VarianceScaling(scale=2.0)\n",
    "        self.fc1 = tf.keras.layers.Dense(hidden_size, activation='relu',\n",
    "                                   kernel_initializer=initializer)\n",
    "        self.fc2 = tf.keras.layers.Dense(num_classes, activation='softmax',\n",
    "                                   kernel_initializer=initializer)\n",
    "        self.flatten = tf.keras.layers.Flatten()\n",
    "    \n",
    "    def call(self, x, training=False):\n",
    "        x = self.flatten(x)\n",
    "        x = self.fc1(x)\n",
    "        x = self.fc2(x)\n",
    "        return x\n",
    "\n",
    "\n",
    "def test_TwoLayerFC():\n",
    "    \"\"\" A small unit test to exercise the TwoLayerFC model above. \"\"\"\n",
    "    input_size, hidden_size, num_classes = 50, 42, 10\n",
    "    x = tf.zeros((64, input_size))\n",
    "    model = TwoLayerFC(hidden_size, num_classes)\n",
    "    with tf.device(device):\n",
    "        scores = model(x)\n",
    "        print(scores.shape)\n",
    "        \n",
    "test_TwoLayerFC()"
   ],
   "outputs": [
    {
     "name": "stdout",
     "output_type": "stream",
     "text": [
      "(64, 10)\n"
     ]
    }
   ],
   "execution_count": 6
  },
  {
   "cell_type": "markdown",
   "metadata": {},
   "source": [
    "Реализуйте трехслойную CNN для вашей задачи классификации. \n",
    "\n",
    "Архитектура сети:\n",
    "    \n",
    "1. Сверточный слой (5 x 5 kernels, zero-padding = 'same')\n",
    "2. Функция активации ReLU \n",
    "3. Сверточный слой (3 x 3 kernels, zero-padding = 'same')\n",
    "4. Функция активации ReLU \n",
    "5. Полносвязный слой \n",
    "6. Функция активации Softmax \n",
    "\n",
    "https://www.tensorflow.org/versions/r2.0/api_docs/python/tf/keras/layers/Conv2D\n",
    "\n",
    "https://www.tensorflow.org/versions/r2.0/api_docs/python/tf/keras/layers/Dense"
   ]
  },
  {
   "cell_type": "code",
   "metadata": {
    "ExecuteTime": {
     "end_time": "2024-05-04T06:26:17.758983Z",
     "start_time": "2024-05-04T06:26:17.754777Z"
    }
   },
   "source": [
    "class ThreeLayerConvNet(tf.keras.Model):\n",
    "    def __init__(self, channel_1, channel_2, num_classes):\n",
    "        super(ThreeLayerConvNet, self).__init__()\n",
    "        ########################################################################\n",
    "        # TODO: Implement the __init__ method for a three-layer ConvNet. You   #\n",
    "        # should instantiate layer objects to be used in the forward pass.     #\n",
    "        ########################################################################\n",
    "        # *****START OF YOUR CODE (DO NOT DELETE/MODIFY THIS LINE)*****\n",
    "\n",
    "        initializer = tf.initializers.VarianceScaling(scale=2.0)\n",
    "        self.conv1 = tf.keras.layers.Conv2D(channel_1, (5, 5), activation='relu', padding='same',\n",
    "                                            kernel_initializer=initializer)\n",
    "        self.conv2 = tf.keras.layers.Conv2D(channel_2, (3, 3), activation='relu', padding='same',\n",
    "                                            kernel_initializer=initializer)\n",
    "        self.flatten = tf.keras.layers.Flatten()\n",
    "        self.fc1 = tf.keras.layers.Dense(128, activation='relu',\n",
    "                                         kernel_initializer=initializer)\n",
    "        self.fc2 = tf.keras.layers.Dense(num_classes, activation='softmax',\n",
    "                                         kernel_initializer=initializer)\n",
    "\n",
    "        # *****END OF YOUR CODE (DO NOT DELETE/MODIFY THIS LINE)*****\n",
    "        ########################################################################\n",
    "        #                           END OF YOUR CODE                           #\n",
    "        ########################################################################\n",
    "        \n",
    "    def call(self, x, training=False):\n",
    "        scores = None\n",
    "        ########################################################################\n",
    "        # TODO: Implement the forward pass for a three-layer ConvNet. You      #\n",
    "        # should use the layer objects defined in the __init__ method.         #\n",
    "        ########################################################################\n",
    "        # *****START OF YOUR CODE (DO NOT DELETE/MODIFY THIS LINE)*****\n",
    "\n",
    "        x = self.conv1(x)\n",
    "        x = self.conv2(x)\n",
    "        x = self.flatten(x)\n",
    "        x = self.fc1(x)\n",
    "        scores = self.fc2(x)\n",
    "\n",
    "        # *****END OF YOUR CODE (DO NOT DELETE/MODIFY THIS LINE)*****\n",
    "        ########################################################################\n",
    "        #                           END OF YOUR CODE                           #\n",
    "        ########################################################################        \n",
    "        return scores"
   ],
   "outputs": [],
   "execution_count": 7
  },
  {
   "cell_type": "code",
   "metadata": {
    "ExecuteTime": {
     "end_time": "2024-05-04T06:26:17.812962Z",
     "start_time": "2024-05-04T06:26:17.759762Z"
    }
   },
   "source": [
    "def test_ThreeLayerConvNet():    \n",
    "    channel_1, channel_2, num_classes = 12, 8, 10\n",
    "    model = ThreeLayerConvNet(channel_1, channel_2, num_classes)\n",
    "    with tf.device(device):\n",
    "        x = tf.zeros((64, 1, 8, 8))\n",
    "        scores = model(x)\n",
    "        print(scores.shape)\n",
    "\n",
    "test_ThreeLayerConvNet()"
   ],
   "outputs": [
    {
     "name": "stdout",
     "output_type": "stream",
     "text": [
      "(64, 10)\n"
     ]
    }
   ],
   "execution_count": 8
  },
  {
   "cell_type": "markdown",
   "metadata": {},
   "source": [
    "Пример реализации процесса обучения:"
   ]
  },
  {
   "cell_type": "code",
   "metadata": {
    "ExecuteTime": {
     "end_time": "2024-05-04T06:26:17.818479Z",
     "start_time": "2024-05-04T06:26:17.813720Z"
    }
   },
   "source": [
    "def train_part34(model_init_fn, optimizer_init_fn, num_epochs=1, is_training=False, print_every = 1, loss_fn = tf.keras.losses.SparseCategoricalCrossentropy()):\n",
    "    \"\"\"\n",
    "    Simple training loop for use with models defined using tf.keras. It trains\n",
    "    a model for one epoch on the CIFAR-10 training set and periodically checks\n",
    "    accuracy on the CIFAR-10 validation set.\n",
    "    \n",
    "    Inputs:\n",
    "    - model_init_fn: A function that takes no parameters; when called it\n",
    "      constructs the model we want to train: model = model_init_fn()\n",
    "    - optimizer_init_fn: A function which takes no parameters; when called it\n",
    "      constructs the Optimizer object we will use to optimize the model:\n",
    "      optimizer = optimizer_init_fn()\n",
    "    - num_epochs: The number of epochs to train for\n",
    "    \n",
    "    Returns: Nothing, but prints progress during trainingn\n",
    "    \"\"\"    \n",
    "    with tf.device(device):\n",
    "        model = model_init_fn()\n",
    "        optimizer = optimizer_init_fn()\n",
    "        \n",
    "        train_loss = tf.keras.metrics.Mean(name='train_loss')\n",
    "        train_accuracy = tf.keras.metrics.SparseCategoricalAccuracy(name='train_accuracy')\n",
    "    \n",
    "        val_loss = tf.keras.metrics.Mean(name='val_loss')\n",
    "        val_accuracy = tf.keras.metrics.SparseCategoricalAccuracy(name='val_accuracy')\n",
    "        \n",
    "        t = 0\n",
    "        for epoch in range(num_epochs):\n",
    "            \n",
    "            # Reset the metrics - https://www.tensorflow.org/alpha/guide/migration_guide#new-style_metrics\n",
    "            # train_loss.reset_states()\n",
    "            # train_accuracy.reset_states()\n",
    "            \n",
    "            for x_np, y_np in train_dset:\n",
    "                with tf.GradientTape() as tape:\n",
    "                    \n",
    "                    # Use the model function to build the forward pass.\n",
    "                    scores = model(x_np, training=is_training)\n",
    "                    loss = loss_fn(y_np, scores)\n",
    "      \n",
    "                    gradients = tape.gradient(loss, model.trainable_variables)\n",
    "                    optimizer.apply_gradients(zip(gradients, model.trainable_variables))\n",
    "                    \n",
    "                    # Update the metrics\n",
    "                    train_loss.update_state(loss)\n",
    "                    train_accuracy.update_state(y_np, scores)\n",
    "                    \n",
    "                    if t % print_every == 0:\n",
    "                        # val_loss.reset_states()\n",
    "                        # val_accuracy.reset_states()\n",
    "                        for test_x, test_y in val_dset:\n",
    "                            # During validation at end of epoch, training set to False\n",
    "                            prediction = model(test_x, training=False)\n",
    "                            t_loss = loss_fn(test_y, prediction)\n",
    "\n",
    "                            val_loss.update_state(t_loss)\n",
    "                            val_accuracy.update_state(test_y, prediction)\n",
    "                        \n",
    "                        template = 'Iteration {}, Epoch {}, Loss: {}, Accuracy: {}, Val Loss: {}, Val Accuracy: {}'\n",
    "                        print (template.format(t, epoch+1,\n",
    "                                             train_loss.result(),\n",
    "                                             train_accuracy.result()*100,\n",
    "                                             val_loss.result(),\n",
    "                                             val_accuracy.result()*100))\n",
    "                    t += 1\n",
    "        return train_accuracy.result()*100"
   ],
   "outputs": [],
   "execution_count": 9
  },
  {
   "cell_type": "code",
   "metadata": {
    "ExecuteTime": {
     "end_time": "2024-05-04T06:26:18.429897Z",
     "start_time": "2024-05-04T06:26:17.819262Z"
    }
   },
   "source": [
    "hidden_size, num_classes = 4000, 10\n",
    "learning_rate = 1e-2\n",
    "\n",
    "def model_init_fn():\n",
    "    return TwoLayerFC(hidden_size, num_classes)\n",
    "\n",
    "def optimizer_init_fn():\n",
    "    return tf.keras.optimizers.SGD(learning_rate=learning_rate)\n",
    "\n",
    "train_part34(model_init_fn, optimizer_init_fn)"
   ],
   "outputs": [
    {
     "name": "stdout",
     "output_type": "stream",
     "text": [
      "Iteration 0, Epoch 1, Loss: 8.210417747497559, Accuracy: 9.375, Val Loss: 10.521446228027344, Val Accuracy: 48.33333206176758\n",
      "Iteration 1, Epoch 1, Loss: 10.623038291931152, Accuracy: 25.78125, Val Loss: 12.181952476501465, Val Accuracy: 46.9444465637207\n",
      "Iteration 2, Epoch 1, Loss: 14.460156440734863, Accuracy: 30.20833396911621, Val Loss: 11.834972381591797, Val Accuracy: 50.83333206176758\n",
      "Iteration 3, Epoch 1, Loss: 13.214972496032715, Accuracy: 37.5, Val Loss: 10.65766429901123, Val Accuracy: 53.95833206176758\n",
      "Iteration 4, Epoch 1, Loss: 11.770947456359863, Accuracy: 44.375, Val Loss: 9.552871704101562, Val Accuracy: 58.999996185302734\n",
      "Iteration 5, Epoch 1, Loss: 10.2921724319458, Accuracy: 51.5625, Val Loss: 8.214164733886719, Val Accuracy: 63.42593002319336\n",
      "Iteration 6, Epoch 1, Loss: 8.943116188049316, Accuracy: 57.36607360839844, Val Loss: 7.321422100067139, Val Accuracy: 66.38888549804688\n",
      "Iteration 7, Epoch 1, Loss: 8.249044418334961, Accuracy: 60.546875, Val Loss: 6.5761542320251465, Val Accuracy: 68.81944274902344\n",
      "Iteration 8, Epoch 1, Loss: 7.551460266113281, Accuracy: 62.32638931274414, Val Loss: 5.970859527587891, Val Accuracy: 71.01851654052734\n",
      "Iteration 9, Epoch 1, Loss: 7.022575378417969, Accuracy: 65.3125, Val Loss: 5.487340927124023, Val Accuracy: 72.86111450195312\n",
      "Iteration 10, Epoch 1, Loss: 6.468118190765381, Accuracy: 67.75568389892578, Val Loss: 5.059403896331787, Val Accuracy: 74.49494934082031\n",
      "Iteration 11, Epoch 1, Loss: 6.032090663909912, Accuracy: 69.27082824707031, Val Loss: 4.77155876159668, Val Accuracy: 75.27777862548828\n",
      "Iteration 12, Epoch 1, Loss: 5.702116966247559, Accuracy: 70.67308044433594, Val Loss: 4.48983907699585, Val Accuracy: 76.17521667480469\n",
      "Iteration 13, Epoch 1, Loss: 5.328785419464111, Accuracy: 71.98661041259766, Val Loss: 4.2003655433654785, Val Accuracy: 77.51983642578125\n",
      "Iteration 14, Epoch 1, Loss: 5.105583190917969, Accuracy: 73.02083587646484, Val Loss: 4.042696475982666, Val Accuracy: 78.0740737915039\n",
      "Iteration 15, Epoch 1, Loss: 4.942667484283447, Accuracy: 73.92578125, Val Loss: 3.867974042892456, Val Accuracy: 78.64582824707031\n",
      "Iteration 16, Epoch 1, Loss: 4.727963447570801, Accuracy: 74.93036651611328, Val Loss: 3.675708055496216, Val Accuracy: 79.39542388916016\n"
     ]
    },
    {
     "data": {
      "text/plain": [
       "<tf.Tensor: shape=(), dtype=float32, numpy=74.93037>"
      ]
     },
     "execution_count": 10,
     "metadata": {},
     "output_type": "execute_result"
    }
   ],
   "execution_count": 10
  },
  {
   "cell_type": "markdown",
   "metadata": {},
   "source": [
    "Обучите трехслойную CNN. В tf.keras.optimizers.SGD укажите Nesterov momentum = 0.9 . \n",
    "\n",
    "https://www.tensorflow.org/versions/r2.0/api_docs/python/tf/optimizers/SGD\n",
    "\n",
    "Значение accuracy на валидационной выборке после 1 эпохи обучения должно быть > 50% ."
   ]
  },
  {
   "cell_type": "code",
   "metadata": {
    "ExecuteTime": {
     "end_time": "2024-05-04T06:26:19.380567Z",
     "start_time": "2024-05-04T06:26:18.431755Z"
    }
   },
   "source": [
    "learning_rate = 3e-3\n",
    "channel_1, channel_2, num_classes = 32, 16, 10\n",
    "\n",
    "def model_init_fn():\n",
    "    model = None\n",
    "    ############################################################################\n",
    "    # TODO: Complete the implementation of model_fn.                           #\n",
    "    ############################################################################\n",
    "    # *****START OF YOUR CODE (DO NOT DELETE/MODIFY THIS LINE)*****\n",
    "\n",
    "    model = ThreeLayerConvNet(channel_1, channel_2, num_classes)\n",
    "\n",
    "    # *****END OF YOUR CODE (DO NOT DELETE/MODIFY THIS LINE)*****\n",
    "    ############################################################################\n",
    "    #                           END OF YOUR CODE                               #\n",
    "    ############################################################################\n",
    "    return model\n",
    "\n",
    "def optimizer_init_fn():\n",
    "    optimizer = None\n",
    "    ############################################################################\n",
    "    # TODO: Complete the implementation of model_fn.                           #\n",
    "    ############################################################################\n",
    "    # *****START OF YOUR CODE (DO NOT DELETE/MODIFY THIS LINE)*****\n",
    "\n",
    "    optimizer = tf.keras.optimizers.SGD(learning_rate=learning_rate, momentum=0.9, nesterov=True)\n",
    "\n",
    "    # *****END OF YOUR CODE (DO NOT DELETE/MODIFY THIS LINE)*****\n",
    "    ############################################################################\n",
    "    #                           END OF YOUR CODE                               #\n",
    "    ############################################################################\n",
    "    return optimizer\n",
    "\n",
    "train_part34(model_init_fn, optimizer_init_fn, print_every=1)"
   ],
   "outputs": [
    {
     "name": "stdout",
     "output_type": "stream",
     "text": [
      "Iteration 0, Epoch 1, Loss: 8.384820938110352, Accuracy: 9.375, Val Loss: 4.125322341918945, Val Accuracy: 18.88888931274414\n",
      "Iteration 1, Epoch 1, Loss: 6.278747081756592, Accuracy: 14.0625, Val Loss: 3.5103347301483154, Val Accuracy: 30.416667938232422\n",
      "Iteration 2, Epoch 1, Loss: 5.4712371826171875, Accuracy: 19.791667938232422, Val Loss: 2.8384788036346436, Val Accuracy: 39.074073791503906\n",
      "Iteration 3, Epoch 1, Loss: 4.416618824005127, Accuracy: 31.640625, Val Loss: 2.390758752822876, Val Accuracy: 46.59722137451172\n",
      "Iteration 4, Epoch 1, Loss: 3.6945433616638184, Accuracy: 40.0, Val Loss: 2.076441764831543, Val Accuracy: 52.611114501953125\n",
      "Iteration 5, Epoch 1, Loss: 3.190753936767578, Accuracy: 46.875, Val Loss: 1.8386211395263672, Val Accuracy: 57.268516540527344\n",
      "Iteration 6, Epoch 1, Loss: 2.8249855041503906, Accuracy: 52.00892639160156, Val Loss: 1.6564840078353882, Val Accuracy: 61.07142639160156\n",
      "Iteration 7, Epoch 1, Loss: 2.5706984996795654, Accuracy: 55.6640625, Val Loss: 1.507959008216858, Val Accuracy: 64.27083587646484\n",
      "Iteration 8, Epoch 1, Loss: 2.3359556198120117, Accuracy: 59.02777862548828, Val Loss: 1.3875296115875244, Val Accuracy: 66.94444274902344\n",
      "Iteration 9, Epoch 1, Loss: 2.1354079246520996, Accuracy: 61.874996185302734, Val Loss: 1.2887204885482788, Val Accuracy: 69.16666412353516\n",
      "Iteration 10, Epoch 1, Loss: 1.971068263053894, Accuracy: 64.63068389892578, Val Loss: 1.2059175968170166, Val Accuracy: 71.01010131835938\n",
      "Iteration 11, Epoch 1, Loss: 1.8416296243667603, Accuracy: 66.53645324707031, Val Loss: 1.1356287002563477, Val Accuracy: 72.56944274902344\n",
      "Iteration 12, Epoch 1, Loss: 1.7355257272720337, Accuracy: 67.90865325927734, Val Loss: 1.0760217905044556, Val Accuracy: 73.9102554321289\n",
      "Iteration 13, Epoch 1, Loss: 1.6310913562774658, Accuracy: 69.64286041259766, Val Loss: 1.0243138074874878, Val Accuracy: 75.05952453613281\n",
      "Iteration 14, Epoch 1, Loss: 1.544081449508667, Accuracy: 70.9375, Val Loss: 0.979702353477478, Val Accuracy: 76.0\n",
      "Iteration 15, Epoch 1, Loss: 1.4605246782302856, Accuracy: 72.265625, Val Loss: 0.938988983631134, Val Accuracy: 76.89236450195312\n",
      "Iteration 16, Epoch 1, Loss: 1.3920291662216187, Accuracy: 73.07334899902344, Val Loss: 0.9004397392272949, Val Accuracy: 77.728759765625\n"
     ]
    },
    {
     "data": {
      "text/plain": [
       "<tf.Tensor: shape=(), dtype=float32, numpy=73.07335>"
      ]
     },
     "execution_count": 11,
     "metadata": {},
     "output_type": "execute_result"
    }
   ],
   "execution_count": 11
  },
  {
   "cell_type": "markdown",
   "metadata": {},
   "source": [
    "# Использование Keras Sequential API для реализации последовательных моделей.\n",
    "\n",
    "Пример для полносвязной сети:"
   ]
  },
  {
   "cell_type": "code",
   "metadata": {
    "ExecuteTime": {
     "end_time": "2024-05-04T06:26:19.984852Z",
     "start_time": "2024-05-04T06:26:19.381443Z"
    }
   },
   "source": [
    "learning_rate = 1e-2\n",
    "\n",
    "def model_init_fn():\n",
    "    input_shape = (8, 8, 1)\n",
    "    initializer = tf.initializers.VarianceScaling(scale=2.0)\n",
    "    layers = [\n",
    "        tf.keras.layers.Flatten(input_shape=input_shape),\n",
    "        tf.keras.layers.Dense(hidden_size, activation='relu',\n",
    "                              kernel_initializer=initializer),\n",
    "        tf.keras.layers.Dense(num_classes, activation='softmax', \n",
    "                              kernel_initializer=initializer),\n",
    "    ]\n",
    "    model = tf.keras.Sequential(layers)\n",
    "    return model\n",
    "\n",
    "def optimizer_init_fn():\n",
    "    return tf.keras.optimizers.SGD(learning_rate=learning_rate) \n",
    "\n",
    "train_part34(model_init_fn, optimizer_init_fn)"
   ],
   "outputs": [
    {
     "name": "stdout",
     "output_type": "stream",
     "text": [
      "Iteration 0, Epoch 1, Loss: 8.17503833770752, Accuracy: 7.8125, Val Loss: 27.46299171447754, Val Accuracy: 30.55555534362793\n",
      "Iteration 1, Epoch 1, Loss: 18.713043212890625, Accuracy: 14.84375, Val Loss: 28.305051803588867, Val Accuracy: 36.52777862548828\n",
      "Iteration 2, Epoch 1, Loss: 22.9022274017334, Accuracy: 22.916667938232422, Val Loss: 26.341218948364258, Val Accuracy: 41.38888931274414\n"
     ]
    },
    {
     "name": "stderr",
     "output_type": "stream",
     "text": [
      "/home/slava/Documents/У(ч)ёба/DeepDarkLearningLabs/venv/lib/python3.11/site-packages/keras/src/layers/reshaping/flatten.py:37: UserWarning: Do not pass an `input_shape`/`input_dim` argument to a layer. When using Sequential models, prefer using an `Input(shape)` object as the first layer in the model instead.\n",
      "  super().__init__(**kwargs)\n"
     ]
    },
    {
     "name": "stdout",
     "output_type": "stream",
     "text": [
      "Iteration 3, Epoch 1, Loss: 20.746479034423828, Accuracy: 34.375, Val Loss: 22.761932373046875, Val Accuracy: 46.38888931274414\n",
      "Iteration 4, Epoch 1, Loss: 18.26120948791504, Accuracy: 41.875, Val Loss: 19.05756378173828, Val Accuracy: 52.22222137451172\n",
      "Iteration 5, Epoch 1, Loss: 15.977249145507812, Accuracy: 47.916664123535156, Val Loss: 16.331275939941406, Val Accuracy: 57.22222137451172\n",
      "Iteration 6, Epoch 1, Loss: 14.332261085510254, Accuracy: 52.67857360839844, Val Loss: 14.332924842834473, Val Accuracy: 61.150794982910156\n",
      "Iteration 7, Epoch 1, Loss: 12.831530570983887, Accuracy: 56.25, Val Loss: 12.775931358337402, Val Accuracy: 64.16666412353516\n",
      "Iteration 8, Epoch 1, Loss: 11.788829803466797, Accuracy: 58.15972137451172, Val Loss: 11.636777877807617, Val Accuracy: 66.14197540283203\n",
      "Iteration 9, Epoch 1, Loss: 11.01835823059082, Accuracy: 61.093746185302734, Val Loss: 10.599151611328125, Val Accuracy: 68.41666412353516\n",
      "Iteration 10, Epoch 1, Loss: 10.109748840332031, Accuracy: 63.77840805053711, Val Loss: 9.853192329406738, Val Accuracy: 69.79798126220703\n",
      "Iteration 11, Epoch 1, Loss: 9.367472648620605, Accuracy: 66.015625, Val Loss: 9.1353178024292, Val Accuracy: 71.59722137451172\n",
      "Iteration 12, Epoch 1, Loss: 8.89824390411377, Accuracy: 67.42788696289062, Val Loss: 8.521554946899414, Val Accuracy: 73.01282501220703\n",
      "Iteration 13, Epoch 1, Loss: 8.283756256103516, Accuracy: 69.19642639160156, Val Loss: 7.9640278816223145, Val Accuracy: 74.42459869384766\n",
      "Iteration 14, Epoch 1, Loss: 7.780935764312744, Accuracy: 70.72916412353516, Val Loss: 7.507297039031982, Val Accuracy: 75.3888931274414\n",
      "Iteration 15, Epoch 1, Loss: 7.351815223693848, Accuracy: 71.875, Val Loss: 7.121287822723389, Val Accuracy: 76.16319274902344\n",
      "Iteration 16, Epoch 1, Loss: 6.986083030700684, Accuracy: 72.88764953613281, Val Loss: 6.751931667327881, Val Accuracy: 77.09150695800781\n"
     ]
    },
    {
     "data": {
      "text/plain": [
       "<tf.Tensor: shape=(), dtype=float32, numpy=72.88765>"
      ]
     },
     "execution_count": 12,
     "metadata": {},
     "output_type": "execute_result"
    }
   ],
   "execution_count": 12
  },
  {
   "cell_type": "markdown",
   "metadata": {},
   "source": [
    "Альтернативный менее гибкий способ обучения:"
   ]
  },
  {
   "cell_type": "code",
   "metadata": {
    "ExecuteTime": {
     "end_time": "2024-05-04T06:26:20.390570Z",
     "start_time": "2024-05-04T06:26:19.985617Z"
    }
   },
   "source": [
    "model = model_init_fn()\n",
    "model.compile(optimizer=tf.keras.optimizers.SGD(learning_rate=learning_rate),\n",
    "              loss='sparse_categorical_crossentropy',\n",
    "              metrics=[tf.keras.metrics.sparse_categorical_accuracy])\n",
    "model.fit(X_train, y_train, batch_size=64, epochs=1, validation_data=(X_val, y_val))\n",
    "model.evaluate(X_test, y_test)"
   ],
   "outputs": [
    {
     "name": "stdout",
     "output_type": "stream",
     "text": [
      "\u001B[1m17/17\u001B[0m \u001B[32m━━━━━━━━━━━━━━━━━━━━\u001B[0m\u001B[37m\u001B[0m \u001B[1m0s\u001B[0m 7ms/step - loss: 9.1740 - sparse_categorical_accuracy: 0.5530 - val_loss: 0.4411 - val_sparse_categorical_accuracy: 0.9611\n",
      "\u001B[1m12/12\u001B[0m \u001B[32m━━━━━━━━━━━━━━━━━━━━\u001B[0m\u001B[37m\u001B[0m \u001B[1m0s\u001B[0m 852us/step - loss: 0.6551 - sparse_categorical_accuracy: 0.9240\n"
     ]
    },
    {
     "data": {
      "text/plain": [
       "[0.6617735624313354, 0.9166666865348816]"
      ]
     },
     "execution_count": 13,
     "metadata": {},
     "output_type": "execute_result"
    }
   ],
   "execution_count": 13
  },
  {
   "cell_type": "markdown",
   "metadata": {},
   "source": [
    "Перепишите реализацию трехслойной CNN с помощью tf.keras.Sequential API . Обучите модель двумя способами."
   ]
  },
  {
   "cell_type": "code",
   "metadata": {
    "ExecuteTime": {
     "end_time": "2024-05-04T06:26:21.329464Z",
     "start_time": "2024-05-04T06:26:20.391643Z"
    }
   },
   "source": [
    "learning_rate = 5e-4\n",
    "\n",
    "def model_init_fn():\n",
    "    model = None\n",
    "    ############################################################################\n",
    "    # TODO: Construct a three-layer ConvNet using tf.keras.Sequential.         #\n",
    "    ############################################################################\n",
    "    # *****START OF YOUR CODE (DO NOT DELETE/MODIFY THIS LINE)*****\n",
    "\n",
    "    input_shape = (8, 8, 1)\n",
    "    initializer = tf.initializers.VarianceScaling(scale=2.0)\n",
    "    layers = [\n",
    "        tf.keras.layers.Conv2D(channel_1, (5, 5), activation='relu', padding='same',\n",
    "                               kernel_initializer=initializer, input_shape=input_shape),\n",
    "        tf.keras.layers.Conv2D(channel_2, (3, 3), activation='relu', padding='same',\n",
    "                               kernel_initializer=initializer),\n",
    "        tf.keras.layers.Flatten(),\n",
    "        tf.keras.layers.Dense(128, activation='relu', kernel_initializer=initializer),\n",
    "        tf.keras.layers.Dense(num_classes, activation='softmax', kernel_initializer=initializer)\n",
    "    ]\n",
    "    model = tf.keras.Sequential(layers)\n",
    "\n",
    "    # *****END OF YOUR CODE (DO NOT DELETE/MODIFY THIS LINE)*****\n",
    "    ############################################################################\n",
    "    #                            END OF YOUR CODE                              #\n",
    "    ############################################################################\n",
    "\n",
    "    return model\n",
    "\n",
    "def optimizer_init_fn():\n",
    "    optimizer = None\n",
    "    ############################################################################\n",
    "    # TODO: Complete the implementation of model_fn.                           #\n",
    "    ############################################################################\n",
    "    # *****START OF YOUR CODE (DO NOT DELETE/MODIFY THIS LINE)*****\n",
    "\n",
    "    optimizer = tf.keras.optimizers.SGD(learning_rate=learning_rate, momentum=0.9, nesterov=True)\n",
    "\n",
    "    # *****END OF YOUR CODE (DO NOT DELETE/MODIFY THIS LINE)*****\n",
    "    ############################################################################\n",
    "    #                           END OF YOUR CODE                               #\n",
    "    ############################################################################\n",
    "\n",
    "    return optimizer\n",
    "\n",
    "train_part34(model_init_fn, optimizer_init_fn)"
   ],
   "outputs": [
    {
     "name": "stdout",
     "output_type": "stream",
     "text": [
      "Iteration 0, Epoch 1, Loss: 8.37335205078125, Accuracy: 18.75, Val Loss: 6.525502681732178, Val Accuracy: 15.833333015441895\n",
      "Iteration 1, Epoch 1, Loss: 7.67636775970459, Accuracy: 14.84375, Val Loss: 5.696007251739502, Val Accuracy: 18.19444465637207\n",
      "Iteration 2, Epoch 1, Loss: 6.644775390625, Accuracy: 15.625, Val Loss: 5.069661617279053, Val Accuracy: 19.629629135131836\n"
     ]
    },
    {
     "name": "stderr",
     "output_type": "stream",
     "text": [
      "/home/slava/Documents/У(ч)ёба/DeepDarkLearningLabs/venv/lib/python3.11/site-packages/keras/src/layers/convolutional/base_conv.py:107: UserWarning: Do not pass an `input_shape`/`input_dim` argument to a layer. When using Sequential models, prefer using an `Input(shape)` object as the first layer in the model instead.\n",
      "  super().__init__(activity_regularizer=activity_regularizer, **kwargs)\n"
     ]
    },
    {
     "name": "stdout",
     "output_type": "stream",
     "text": [
      "Iteration 3, Epoch 1, Loss: 6.03685188293457, Accuracy: 17.1875, Val Loss: 4.601292610168457, Val Accuracy: 21.18055534362793\n",
      "Iteration 4, Epoch 1, Loss: 5.4445600509643555, Accuracy: 19.375, Val Loss: 4.248658180236816, Val Accuracy: 23.05555534362793\n",
      "Iteration 5, Epoch 1, Loss: 5.0841193199157715, Accuracy: 21.614582061767578, Val Loss: 3.9694344997406006, Val Accuracy: 24.953702926635742\n",
      "Iteration 6, Epoch 1, Loss: 4.689236164093018, Accuracy: 23.660715103149414, Val Loss: 3.735741138458252, Val Accuracy: 26.944442749023438\n",
      "Iteration 7, Epoch 1, Loss: 4.384458541870117, Accuracy: 25.9765625, Val Loss: 3.536801338195801, Val Accuracy: 28.71527671813965\n",
      "Iteration 8, Epoch 1, Loss: 4.127628803253174, Accuracy: 27.95138931274414, Val Loss: 3.3539438247680664, Val Accuracy: 30.617284774780273\n",
      "Iteration 9, Epoch 1, Loss: 3.919463634490967, Accuracy: 30.46875, Val Loss: 3.184562921524048, Val Accuracy: 32.58333206176758\n",
      "Iteration 10, Epoch 1, Loss: 3.7008156776428223, Accuracy: 32.8125, Val Loss: 3.028493642807007, Val Accuracy: 34.621212005615234\n",
      "Iteration 11, Epoch 1, Loss: 3.5383055210113525, Accuracy: 34.244789123535156, Val Loss: 2.880966901779175, Val Accuracy: 36.875\n",
      "Iteration 12, Epoch 1, Loss: 3.3630282878875732, Accuracy: 35.697113037109375, Val Loss: 2.7423207759857178, Val Accuracy: 39.230770111083984\n",
      "Iteration 13, Epoch 1, Loss: 3.213850259780884, Accuracy: 36.94196319580078, Val Loss: 2.6130099296569824, Val Accuracy: 41.42857360839844\n",
      "Iteration 14, Epoch 1, Loss: 3.0799691677093506, Accuracy: 38.95833206176758, Val Loss: 2.4922633171081543, Val Accuracy: 43.592594146728516\n",
      "Iteration 15, Epoch 1, Loss: 2.920478582382202, Accuracy: 41.50390625, Val Loss: 2.3808844089508057, Val Accuracy: 45.81597137451172\n",
      "Iteration 16, Epoch 1, Loss: 2.7792961597442627, Accuracy: 43.73258972167969, Val Loss: 2.278095245361328, Val Accuracy: 47.875816345214844\n"
     ]
    },
    {
     "data": {
      "text/plain": [
       "<tf.Tensor: shape=(), dtype=float32, numpy=43.73259>"
      ]
     },
     "execution_count": 14,
     "metadata": {},
     "output_type": "execute_result"
    }
   ],
   "execution_count": 14
  },
  {
   "cell_type": "code",
   "metadata": {
    "ExecuteTime": {
     "end_time": "2024-05-04T06:26:21.840016Z",
     "start_time": "2024-05-04T06:26:21.330448Z"
    }
   },
   "source": [
    "model = model_init_fn()\n",
    "model.compile(optimizer='sgd',\n",
    "              loss='sparse_categorical_crossentropy',\n",
    "              metrics=[tf.keras.metrics.sparse_categorical_accuracy])\n",
    "model.fit(X_train, y_train, batch_size=64, epochs=1, validation_data=(X_val, y_val))\n",
    "model.evaluate(X_test, y_test)"
   ],
   "outputs": [
    {
     "name": "stdout",
     "output_type": "stream",
     "text": [
      "\u001B[1m17/17\u001B[0m \u001B[32m━━━━━━━━━━━━━━━━━━━━\u001B[0m\u001B[37m\u001B[0m \u001B[1m0s\u001B[0m 11ms/step - loss: 3.6971 - sparse_categorical_accuracy: 0.4576 - val_loss: 0.4164 - val_sparse_categorical_accuracy: 0.8778\n",
      "\u001B[1m12/12\u001B[0m \u001B[32m━━━━━━━━━━━━━━━━━━━━\u001B[0m\u001B[37m\u001B[0m \u001B[1m0s\u001B[0m 1ms/step - loss: 0.4329 - sparse_categorical_accuracy: 0.8768 \n"
     ]
    },
    {
     "data": {
      "text/plain": [
       "[0.42036008834838867, 0.8805555701255798]"
      ]
     },
     "execution_count": 15,
     "metadata": {},
     "output_type": "execute_result"
    }
   ],
   "execution_count": 15
  },
  {
   "cell_type": "markdown",
   "metadata": {},
   "source": [
    "# Использование Keras Functional API\n",
    "\n",
    "Для реализации более сложных архитектур сети с несколькими входами/выходами, повторным использованием слоев, \"остаточными\" связями (residual connections) необходимо явно указать входные и выходные тензоры. \n",
    "\n",
    "Ниже представлен пример для полносвязной сети. "
   ]
  },
  {
   "cell_type": "code",
   "metadata": {
    "ExecuteTime": {
     "end_time": "2024-05-04T06:26:21.855945Z",
     "start_time": "2024-05-04T06:26:21.840732Z"
    }
   },
   "source": [
    "def two_layer_fc_functional(input_shape, hidden_size, num_classes):  \n",
    "    initializer = tf.initializers.VarianceScaling(scale=2.0)\n",
    "    inputs = tf.keras.Input(shape=input_shape)\n",
    "    flattened_inputs = tf.keras.layers.Flatten()(inputs)\n",
    "    fc1_output = tf.keras.layers.Dense(hidden_size, activation='relu',\n",
    "                                 kernel_initializer=initializer)(flattened_inputs)\n",
    "    scores = tf.keras.layers.Dense(num_classes, activation='softmax',\n",
    "                             kernel_initializer=initializer)(fc1_output)\n",
    "\n",
    "    # Instantiate the model given inputs and outputs.\n",
    "    model = tf.keras.Model(inputs=inputs, outputs=scores)\n",
    "    return model\n",
    "\n",
    "def test_two_layer_fc_functional():\n",
    "    \"\"\" A small unit test to exercise the TwoLayerFC model above. \"\"\"\n",
    "    input_size, hidden_size, num_classes = 50, 42, 10\n",
    "    input_shape = (50,)\n",
    "    \n",
    "    x = tf.zeros((64, input_size))\n",
    "    model = two_layer_fc_functional(input_shape, hidden_size, num_classes)\n",
    "    \n",
    "    with tf.device(device):\n",
    "        scores = model(x)\n",
    "        print(scores.shape)\n",
    "        \n",
    "test_two_layer_fc_functional()"
   ],
   "outputs": [
    {
     "name": "stdout",
     "output_type": "stream",
     "text": [
      "(64, 10)\n"
     ]
    }
   ],
   "execution_count": 16
  },
  {
   "cell_type": "code",
   "metadata": {
    "ExecuteTime": {
     "end_time": "2024-05-04T06:26:22.462561Z",
     "start_time": "2024-05-04T06:26:21.856907Z"
    }
   },
   "source": [
    "input_shape = (8, 8, 1)\n",
    "\n",
    "def model_init_fn():\n",
    "    return two_layer_fc_functional(input_shape, hidden_size, num_classes)\n",
    "\n",
    "def optimizer_init_fn():\n",
    "    return tf.keras.optimizers.SGD(learning_rate=learning_rate)\n",
    "\n",
    "train_part34(model_init_fn, optimizer_init_fn)"
   ],
   "outputs": [
    {
     "name": "stdout",
     "output_type": "stream",
     "text": [
      "Iteration 0, Epoch 1, Loss: 7.108091354370117, Accuracy: 15.625, Val Loss: 6.995588302612305, Val Accuracy: 18.61111068725586\n",
      "Iteration 1, Epoch 1, Loss: 7.252679824829102, Accuracy: 15.625, Val Loss: 6.330205917358398, Val Accuracy: 19.86111068725586\n",
      "Iteration 2, Epoch 1, Loss: 6.155717372894287, Accuracy: 19.791667938232422, Val Loss: 5.886967182159424, Val Accuracy: 22.592592239379883\n",
      "Iteration 3, Epoch 1, Loss: 5.911129951477051, Accuracy: 19.53125, Val Loss: 5.504873752593994, Val Accuracy: 26.11111068725586\n",
      "Iteration 4, Epoch 1, Loss: 5.638946056365967, Accuracy: 22.1875, Val Loss: 5.153144836425781, Val Accuracy: 28.44444465637207\n",
      "Iteration 5, Epoch 1, Loss: 5.368155002593994, Accuracy: 25.52083396911621, Val Loss: 4.836570739746094, Val Accuracy: 30.509260177612305\n",
      "Iteration 6, Epoch 1, Loss: 5.039126873016357, Accuracy: 28.34821319580078, Val Loss: 4.559291839599609, Val Accuracy: 33.015872955322266\n",
      "Iteration 7, Epoch 1, Loss: 4.763949394226074, Accuracy: 29.6875, Val Loss: 4.315803050994873, Val Accuracy: 35.52083206176758\n",
      "Iteration 8, Epoch 1, Loss: 4.5640411376953125, Accuracy: 31.42361068725586, Val Loss: 4.096357822418213, Val Accuracy: 37.932098388671875\n",
      "Iteration 9, Epoch 1, Loss: 4.368957042694092, Accuracy: 32.96875, Val Loss: 3.896766424179077, Val Accuracy: 40.27777862548828\n",
      "Iteration 10, Epoch 1, Loss: 4.137362480163574, Accuracy: 36.07954788208008, Val Loss: 3.726909637451172, Val Accuracy: 42.272727966308594\n",
      "Iteration 11, Epoch 1, Loss: 3.894721746444702, Accuracy: 38.411460876464844, Val Loss: 3.573728322982788, Val Accuracy: 44.074073791503906\n",
      "Iteration 12, Epoch 1, Loss: 3.7562296390533447, Accuracy: 39.42307662963867, Val Loss: 3.4396064281463623, Val Accuracy: 45.598289489746094\n",
      "Iteration 13, Epoch 1, Loss: 3.6404576301574707, Accuracy: 40.73660659790039, Val Loss: 3.313065767288208, Val Accuracy: 47.08333206176758\n",
      "Iteration 14, Epoch 1, Loss: 3.493316173553467, Accuracy: 42.39583206176758, Val Loss: 3.1954801082611084, Val Accuracy: 48.53703689575195\n",
      "Iteration 15, Epoch 1, Loss: 3.378448009490967, Accuracy: 43.65234375, Val Loss: 3.083106279373169, Val Accuracy: 49.9305534362793\n",
      "Iteration 16, Epoch 1, Loss: 3.268960952758789, Accuracy: 44.382545471191406, Val Loss: 2.9776947498321533, Val Accuracy: 51.37255096435547\n"
     ]
    },
    {
     "data": {
      "text/plain": [
       "<tf.Tensor: shape=(), dtype=float32, numpy=44.382545>"
      ]
     },
     "execution_count": 17,
     "metadata": {},
     "output_type": "execute_result"
    }
   ],
   "execution_count": 17
  },
  {
   "cell_type": "markdown",
   "metadata": {},
   "source": []
  },
  {
   "cell_type": "markdown",
   "metadata": {},
   "source": [
    "Поэкспериментируйте с архитектурой сверточной сети. Для вашего набора данных вам необходимо получить как минимум 70% accuracy на валидационной выборке за 10 эпох обучения. Опишите все эксперименты и сделайте выводы (без выполнения данного пункта работы приниматься не будут). \n",
    "\n",
    "Эспериментируйте с архитектурой, гиперпараметрами, функцией потерь, регуляризацией, методом оптимизации.  \n",
    "\n",
    "https://www.tensorflow.org/versions/r2.0/api_docs/python/tf/keras/layers/BatchNormalization#methods https://www.tensorflow.org/versions/r2.0/api_docs/python/tf/keras/layers/Dropout#methods"
   ]
  },
  {
   "cell_type": "code",
   "metadata": {
    "ExecuteTime": {
     "end_time": "2024-05-04T06:41:04.588198Z",
     "start_time": "2024-05-04T06:30:47.188506Z"
    }
   },
   "source": [
    "num_epochs = 10\n",
    "\n",
    "class CustomConvNet(tf.keras.Model):\n",
    "    def __init__(self, num_filters, kernel_size, dense_units, dropout_rate, regularizer):\n",
    "        super(CustomConvNet, self).__init__()\n",
    "        initializer = tf.initializers.VarianceScaling(scale=2.0)\n",
    "\n",
    "        self.conv1 = tf.keras.layers.Conv2D(num_filters, kernel_size, activation='relu', padding='same', kernel_initializer=initializer, kernel_regularizer=regularizer)\n",
    "        self.conv2 = tf.keras.layers.Conv2D(num_filters, kernel_size, activation='relu', padding='same', kernel_initializer=initializer, kernel_regularizer=regularizer)\n",
    "        self.flatten = tf.keras.layers.Flatten()\n",
    "        self.fc1 = tf.keras.layers.Dense(dense_units, activation='relu', kernel_initializer=initializer, kernel_regularizer=regularizer)\n",
    "        self.dropout = tf.keras.layers.Dropout(dropout_rate)\n",
    "        self.fc2 = tf.keras.layers.Dense(10, activation='softmax', kernel_initializer=initializer)\n",
    "\n",
    "    def call(self, input_tensor, training=False):\n",
    "        x = self.conv1(input_tensor)\n",
    "        x = self.conv2(x)\n",
    "        x = self.flatten(x)\n",
    "        x = self.fc1(x)\n",
    "        x = self.dropout(x, training=training)\n",
    "        x = self.fc2(x)\n",
    "        return x\n",
    "\n",
    "# Перебор гиперпараметров\n",
    "num_filters_list = [32, 64]\n",
    "kernel_size_list = [(3, 3), (5, 5)]\n",
    "dense_units_list = [128, 256]\n",
    "dropout_rate_list = [0.3, 0.5]\n",
    "regularizer_list = [None, tf.keras.regularizers.l2(0.001)]\n",
    "loss_list = [\n",
    "    tf.keras.losses.SparseCategoricalCrossentropy(),\n",
    "]\n",
    "optimizer_list = ['adam', 'sgd']\n",
    "learning_rate_list = [1e-3, 1e-4]\n",
    "\n",
    "best_accuracy = 0.0\n",
    "best_params = None\n",
    "results = []\n",
    "\n",
    "for num_filters in num_filters_list:\n",
    "    for kernel_size in kernel_size_list:\n",
    "        for dense_units in dense_units_list:\n",
    "            for dropout_rate in dropout_rate_list:\n",
    "                for regularizer in regularizer_list:\n",
    "                    for loss in loss_list:\n",
    "                        for optimizer in optimizer_list:\n",
    "                            for learning_rate in learning_rate_list:\n",
    "                                def model_init_fn():\n",
    "                                    return CustomConvNet(num_filters, kernel_size, dense_units, dropout_rate, regularizer)\n",
    "    \n",
    "                                def optimizer_init_fn():\n",
    "                                    if optimizer == 'adam':\n",
    "                                        return tf.keras.optimizers.Adam(learning_rate)\n",
    "                                    elif optimizer == 'sgd':\n",
    "                                        return tf.keras.optimizers.SGD(learning_rate)\n",
    "                                    elif optimizer == 'rmsprop':\n",
    "                                        return tf.keras.optimizers.RMSprop(learning_rate)\n",
    "    \n",
    "                                test_acc = train_part34(model_init_fn, optimizer_init_fn, num_epochs=num_epochs, is_training=True, print_every=160, loss_fn=loss)\n",
    "\n",
    "                                current_params = {'num_filters': num_filters, 'kernel_size': kernel_size, 'dense_units': dense_units, 'dropout_rate': dropout_rate, 'regularizer': regularizer, 'loss_fn': loss.name, 'optimizer': optimizer, 'learning_rate': learning_rate, 'test_acc': test_acc}\n",
    "\n",
    "                                results.append(current_params)\n",
    "    \n",
    "                                if test_acc > best_accuracy:\n",
    "                                    best_accuracy = test_acc\n",
    "                                    best_params = current_params\n",
    "\n",
    "\n",
    "print(f\"\\nBest accuracy: {best_accuracy:.4f}\")\n",
    "print(f\"Best parameters:\", best_params)"
   ],
   "outputs": [
    {
     "name": "stdout",
     "output_type": "stream",
     "text": [
      "Iteration 0, Epoch 1, Loss: 8.459726333618164, Accuracy: 7.8125, Val Loss: 3.5549399852752686, Val Accuracy: 33.61111068725586\n",
      "Iteration 160, Epoch 10, Loss: 0.23766463994979858, Accuracy: 95.1004409790039, Val Loss: 1.8089393377304077, Val Accuracy: 65.69444274902344\n",
      "Iteration 0, Epoch 1, Loss: 8.934349060058594, Accuracy: 17.1875, Val Loss: 7.315748691558838, Val Accuracy: 10.277777671813965\n",
      "Iteration 160, Epoch 10, Loss: 1.0918951034545898, Accuracy: 76.34493255615234, Val Loss: 3.727236032485962, Val Accuracy: 52.63888931274414\n",
      "Iteration 0, Epoch 1, Loss: 7.347914695739746, Accuracy: 12.5, Val Loss: 6.318758487701416, Val Accuracy: 20.0\n",
      "Iteration 160, Epoch 10, Loss: 1.0310077667236328, Accuracy: 75.16902923583984, Val Loss: 3.304708480834961, Val Accuracy: 55.972225189208984\n",
      "Iteration 0, Epoch 1, Loss: 11.715242385864258, Accuracy: 4.6875, Val Loss: 9.10726261138916, Val Accuracy: 10.277777671813965\n",
      "Iteration 160, Epoch 10, Loss: 4.260796546936035, Accuracy: 28.897598266601562, Val Loss: 5.179015159606934, Val Accuracy: 36.94444274902344\n",
      "Iteration 0, Epoch 1, Loss: 10.12830924987793, Accuracy: 7.8125, Val Loss: 3.993457078933716, Val Accuracy: 27.77777862548828\n",
      "Iteration 160, Epoch 10, Loss: 0.25651001930236816, Accuracy: 95.1788330078125, Val Loss: 2.0182266235351562, Val Accuracy: 63.47222137451172\n",
      "Iteration 0, Epoch 1, Loss: 15.564107894897461, Accuracy: 9.375, Val Loss: 12.66747760772705, Val Accuracy: 7.222222328186035\n",
      "Iteration 160, Epoch 10, Loss: 1.5000584125518799, Accuracy: 72.80744934082031, Val Loss: 6.414980411529541, Val Accuracy: 51.25\n",
      "Iteration 0, Epoch 1, Loss: 8.839956283569336, Accuracy: 9.375, Val Loss: 4.85754919052124, Val Accuracy: 25.833332061767578\n",
      "Iteration 160, Epoch 10, Loss: 0.9611679911613464, Accuracy: 75.80597686767578, Val Loss: 2.530301094055176, Val Accuracy: 60.41666793823242\n",
      "Iteration 0, Epoch 1, Loss: 12.020383834838867, Accuracy: 4.6875, Val Loss: 11.509299278259277, Val Accuracy: 3.8888890743255615\n",
      "Iteration 160, Epoch 10, Loss: 4.415313243865967, Accuracy: 27.192554473876953, Val Loss: 6.34844970703125, Val Accuracy: 34.02777862548828\n",
      "Iteration 0, Epoch 1, Loss: 12.434260368347168, Accuracy: 7.8125, Val Loss: 5.5857253074646, Val Accuracy: 28.33333396911621\n",
      "Iteration 160, Epoch 10, Loss: 0.4150739312171936, Accuracy: 91.70994567871094, Val Loss: 2.8205058574676514, Val Accuracy: 63.33333206176758\n",
      "Iteration 0, Epoch 1, Loss: 12.879219055175781, Accuracy: 6.25, Val Loss: 6.84722375869751, Val Accuracy: 8.611111640930176\n",
      "Iteration 160, Epoch 10, Loss: 1.6925119161605835, Accuracy: 66.2420425415039, Val Loss: 3.513277053833008, Val Accuracy: 51.111114501953125\n",
      "Iteration 0, Epoch 1, Loss: 10.761411666870117, Accuracy: 17.1875, Val Loss: 5.4803147315979, Val Accuracy: 21.66666603088379\n",
      "Iteration 160, Epoch 10, Loss: 1.398602843284607, Accuracy: 67.26114654541016, Val Loss: 2.8592870235443115, Val Accuracy: 57.5\n",
      "Iteration 0, Epoch 1, Loss: 12.247628211975098, Accuracy: 15.625, Val Loss: 7.726733684539795, Val Accuracy: 12.222222328186035\n",
      "Iteration 160, Epoch 10, Loss: 5.549760818481445, Accuracy: 27.241548538208008, Val Loss: 4.432692050933838, Val Accuracy: 38.88888931274414\n",
      "Iteration 0, Epoch 1, Loss: 10.600957870483398, Accuracy: 18.75, Val Loss: 2.8492612838745117, Val Accuracy: 37.77777862548828\n",
      "Iteration 160, Epoch 10, Loss: 0.3723173439502716, Accuracy: 91.76873779296875, Val Loss: 1.4470876455307007, Val Accuracy: 68.19444274902344\n",
      "Iteration 0, Epoch 1, Loss: 9.191320419311523, Accuracy: 15.625, Val Loss: 4.841040134429932, Val Accuracy: 19.44444465637207\n",
      "Iteration 160, Epoch 10, Loss: 1.358776330947876, Accuracy: 69.26016998291016, Val Loss: 2.52331280708313, Val Accuracy: 56.66666793823242\n",
      "Iteration 0, Epoch 1, Loss: 15.079532623291016, Accuracy: 4.6875, Val Loss: 6.759103775024414, Val Accuracy: 12.5\n",
      "Iteration 160, Epoch 10, Loss: 1.5643696784973145, Accuracy: 66.19304656982422, Val Loss: 3.511639356613159, Val Accuracy: 52.63888931274414\n",
      "Iteration 0, Epoch 1, Loss: 10.0592622756958, Accuracy: 7.8125, Val Loss: 7.746589183807373, Val Accuracy: 11.94444465637207\n",
      "Iteration 160, Epoch 10, Loss: 5.072373867034912, Accuracy: 24.390005111694336, Val Loss: 4.57277774810791, Val Accuracy: 34.58333206176758\n",
      "Iteration 0, Epoch 1, Loss: 15.478190422058105, Accuracy: 6.25, Val Loss: 9.617734909057617, Val Accuracy: 13.61111068725586\n",
      "Iteration 160, Epoch 10, Loss: 0.5005450248718262, Accuracy: 94.03233337402344, Val Loss: 4.838855266571045, Val Accuracy: 56.25\n",
      "Iteration 0, Epoch 1, Loss: 11.51620101928711, Accuracy: 3.125, Val Loss: 7.168532848358154, Val Accuracy: 8.333333969116211\n",
      "Iteration 160, Epoch 10, Loss: 0.9171538949012756, Accuracy: 82.78295135498047, Val Loss: 3.649170160293579, Val Accuracy: 52.22222137451172\n",
      "Iteration 0, Epoch 1, Loss: 16.62767791748047, Accuracy: 9.375, Val Loss: 7.796717166900635, Val Accuracy: 13.88888931274414\n",
      "Iteration 160, Epoch 10, Loss: 1.1401147842407227, Accuracy: 77.38363647460938, Val Loss: 3.9816925525665283, Val Accuracy: 54.44444274902344\n",
      "Iteration 0, Epoch 1, Loss: 8.841670989990234, Accuracy: 7.8125, Val Loss: 6.49547815322876, Val Accuracy: 16.11111068725586\n",
      "Iteration 160, Epoch 10, Loss: 3.670280933380127, Accuracy: 34.87506103515625, Val Loss: 3.681309938430786, Val Accuracy: 45.13888931274414\n",
      "Iteration 0, Epoch 1, Loss: 9.051005363464355, Accuracy: 10.9375, Val Loss: 6.1017746925354, Val Accuracy: 26.38888931274414\n",
      "Iteration 160, Epoch 10, Loss: 0.23979663848876953, Accuracy: 95.96276092529297, Val Loss: 3.066920042037964, Val Accuracy: 62.5\n",
      "Iteration 0, Epoch 1, Loss: 9.337047576904297, Accuracy: 15.625, Val Loss: 6.835512638092041, Val Accuracy: 13.61111068725586\n",
      "Iteration 160, Epoch 10, Loss: 0.715831995010376, Accuracy: 84.87995910644531, Val Loss: 3.4504220485687256, Val Accuracy: 55.972225189208984\n",
      "Iteration 0, Epoch 1, Loss: 9.744508743286133, Accuracy: 4.6875, Val Loss: 5.432638645172119, Val Accuracy: 12.222222328186035\n",
      "Iteration 160, Epoch 10, Loss: 1.049115538597107, Accuracy: 74.58108520507812, Val Loss: 2.798179864883423, Val Accuracy: 53.750003814697266\n",
      "Iteration 0, Epoch 1, Loss: 10.850648880004883, Accuracy: 7.8125, Val Loss: 10.01288890838623, Val Accuracy: 10.833333015441895\n",
      "Iteration 160, Epoch 10, Loss: 4.055691242218018, Accuracy: 32.74864959716797, Val Loss: 5.503000259399414, Val Accuracy: 40.27777862548828\n",
      "Iteration 0, Epoch 1, Loss: 12.515619277954102, Accuracy: 7.8125, Val Loss: 7.266108989715576, Val Accuracy: 23.88888931274414\n",
      "Iteration 160, Epoch 10, Loss: 0.3481617271900177, Accuracy: 94.45369720458984, Val Loss: 3.6589434146881104, Val Accuracy: 61.11111068725586\n",
      "Iteration 0, Epoch 1, Loss: 20.072673797607422, Accuracy: 3.125, Val Loss: 10.656292915344238, Val Accuracy: 1.388888955116272\n",
      "Iteration 160, Epoch 10, Loss: 1.746515154838562, Accuracy: 74.86526489257812, Val Loss: 5.396524429321289, Val Accuracy: 48.88888931274414\n",
      "Iteration 0, Epoch 1, Loss: 11.646583557128906, Accuracy: 17.1875, Val Loss: 5.642320156097412, Val Accuracy: 8.333333969116211\n",
      "Iteration 160, Epoch 10, Loss: 1.5032223463058472, Accuracy: 69.13278198242188, Val Loss: 2.906780242919922, Val Accuracy: 50.97222137451172\n",
      "Iteration 0, Epoch 1, Loss: 13.022388458251953, Accuracy: 7.8125, Val Loss: 8.47829532623291, Val Accuracy: 15.555556297302246\n",
      "Iteration 160, Epoch 10, Loss: 5.0846943855285645, Accuracy: 28.544830322265625, Val Loss: 4.765807151794434, Val Accuracy: 41.80555725097656\n",
      "Iteration 0, Epoch 1, Loss: 11.593917846679688, Accuracy: 10.9375, Val Loss: 4.287052154541016, Val Accuracy: 27.22222137451172\n",
      "Iteration 160, Epoch 10, Loss: 0.29891741275787354, Accuracy: 94.67908477783203, Val Loss: 2.170372724533081, Val Accuracy: 62.777774810791016\n",
      "Iteration 0, Epoch 1, Loss: 10.926850318908691, Accuracy: 10.9375, Val Loss: 6.397749423980713, Val Accuracy: 14.44444465637207\n",
      "Iteration 160, Epoch 10, Loss: 1.2524245977401733, Accuracy: 77.8931884765625, Val Loss: 3.253201484680176, Val Accuracy: 55.27777862548828\n",
      "Iteration 0, Epoch 1, Loss: 13.737351417541504, Accuracy: 4.6875, Val Loss: 7.280618190765381, Val Accuracy: 10.55555534362793\n",
      "Iteration 160, Epoch 10, Loss: 1.4571415185928345, Accuracy: 70.65164184570312, Val Loss: 3.7389028072357178, Val Accuracy: 52.08333206176758\n",
      "Iteration 0, Epoch 1, Loss: 9.222149848937988, Accuracy: 9.375, Val Loss: 7.641826152801514, Val Accuracy: 10.833333015441895\n",
      "Iteration 160, Epoch 10, Loss: 4.961773872375488, Accuracy: 25.614892959594727, Val Loss: 4.331921577453613, Val Accuracy: 37.08333206176758\n",
      "Iteration 0, Epoch 1, Loss: 8.78699779510498, Accuracy: 10.9375, Val Loss: 3.760145902633667, Val Accuracy: 18.33333396911621\n",
      "Iteration 160, Epoch 10, Loss: 0.19526860117912292, Accuracy: 95.72758483886719, Val Loss: 1.9011154174804688, Val Accuracy: 58.611114501953125\n",
      "Iteration 0, Epoch 1, Loss: 10.08786392211914, Accuracy: 12.5, Val Loss: 7.822996616363525, Val Accuracy: 13.333333969116211\n",
      "Iteration 160, Epoch 10, Loss: 1.0222406387329102, Accuracy: 79.8628158569336, Val Loss: 3.9538803100585938, Val Accuracy: 55.27777862548828\n",
      "Iteration 0, Epoch 1, Loss: 7.861377716064453, Accuracy: 9.375, Val Loss: 4.807950973510742, Val Accuracy: 13.61111068725586\n",
      "Iteration 160, Epoch 10, Loss: 0.8819389343261719, Accuracy: 76.50171661376953, Val Loss: 2.4835240840911865, Val Accuracy: 54.44444274902344\n",
      "Iteration 0, Epoch 1, Loss: 10.114965438842773, Accuracy: 4.6875, Val Loss: 7.276212215423584, Val Accuracy: 11.666666984558105\n",
      "Iteration 160, Epoch 10, Loss: 3.493762254714966, Accuracy: 30.710433959960938, Val Loss: 4.183543682098389, Val Accuracy: 37.77777862548828\n",
      "Iteration 0, Epoch 1, Loss: 10.58885383605957, Accuracy: 10.9375, Val Loss: 4.828962326049805, Val Accuracy: 23.88888931274414\n",
      "Iteration 160, Epoch 10, Loss: 0.23954010009765625, Accuracy: 95.39441680908203, Val Loss: 2.4354183673858643, Val Accuracy: 61.25\n",
      "Iteration 0, Epoch 1, Loss: 11.751371383666992, Accuracy: 9.375, Val Loss: 6.941911220550537, Val Accuracy: 10.833333015441895\n",
      "Iteration 160, Epoch 10, Loss: 0.9509149193763733, Accuracy: 80.5781478881836, Val Loss: 3.539886236190796, Val Accuracy: 52.916664123535156\n",
      "Iteration 0, Epoch 1, Loss: 9.366793632507324, Accuracy: 12.5, Val Loss: 5.644685745239258, Val Accuracy: 12.222222328186035\n",
      "Iteration 160, Epoch 10, Loss: 0.9566754698753357, Accuracy: 74.63008117675781, Val Loss: 2.9189202785491943, Val Accuracy: 53.0555534362793\n",
      "Iteration 0, Epoch 1, Loss: 6.978371620178223, Accuracy: 10.9375, Val Loss: 6.2926788330078125, Val Accuracy: 6.388889312744141\n",
      "Iteration 160, Epoch 10, Loss: 3.616704225540161, Accuracy: 29.220972061157227, Val Loss: 3.7540435791015625, Val Accuracy: 33.47222137451172\n",
      "Iteration 0, Epoch 1, Loss: 12.366052627563477, Accuracy: 12.5, Val Loss: 5.768442153930664, Val Accuracy: 22.22222328186035\n",
      "Iteration 160, Epoch 10, Loss: 0.41015979647636414, Accuracy: 91.65115356445312, Val Loss: 2.9116649627685547, Val Accuracy: 60.27777862548828\n",
      "Iteration 0, Epoch 1, Loss: 10.767459869384766, Accuracy: 9.375, Val Loss: 6.355304718017578, Val Accuracy: 6.111111164093018\n",
      "Iteration 160, Epoch 10, Loss: 1.2729883193969727, Accuracy: 73.13081359863281, Val Loss: 3.237993001937866, Val Accuracy: 51.52777862548828\n",
      "Iteration 0, Epoch 1, Loss: 11.369001388549805, Accuracy: 9.375, Val Loss: 4.825511455535889, Val Accuracy: 13.333333969116211\n",
      "Iteration 160, Epoch 10, Loss: 1.3206119537353516, Accuracy: 66.66339874267578, Val Loss: 2.5196914672851562, Val Accuracy: 54.3055534362793\n",
      "Iteration 0, Epoch 1, Loss: 13.126748085021973, Accuracy: 10.9375, Val Loss: 7.498708724975586, Val Accuracy: 16.666667938232422\n",
      "Iteration 160, Epoch 10, Loss: 5.126852512359619, Accuracy: 25.232728958129883, Val Loss: 4.2565693855285645, Val Accuracy: 42.08333206176758\n",
      "Iteration 0, Epoch 1, Loss: 9.305583953857422, Accuracy: 10.9375, Val Loss: 3.134429931640625, Val Accuracy: 35.0\n",
      "Iteration 160, Epoch 10, Loss: 0.3082389831542969, Accuracy: 92.95442962646484, Val Loss: 1.5757375955581665, Val Accuracy: 67.22222137451172\n",
      "Iteration 0, Epoch 1, Loss: 13.713190078735352, Accuracy: 14.0625, Val Loss: 9.43480396270752, Val Accuracy: 10.833333015441895\n",
      "Iteration 160, Epoch 10, Loss: 1.527587652206421, Accuracy: 72.01371765136719, Val Loss: 4.785401344299316, Val Accuracy: 53.333335876464844\n",
      "Iteration 0, Epoch 1, Loss: 11.016033172607422, Accuracy: 10.9375, Val Loss: 6.040992259979248, Val Accuracy: 15.000000953674316\n",
      "Iteration 160, Epoch 10, Loss: 1.3014163970947266, Accuracy: 66.88877868652344, Val Loss: 3.1405599117279053, Val Accuracy: 54.02777862548828\n",
      "Iteration 0, Epoch 1, Loss: 11.263448715209961, Accuracy: 12.5, Val Loss: 8.700640678405762, Val Accuracy: 10.55555534362793\n",
      "Iteration 160, Epoch 10, Loss: 4.998004913330078, Accuracy: 25.340518951416016, Val Loss: 5.050399303436279, Val Accuracy: 35.55555725097656\n",
      "Iteration 0, Epoch 1, Loss: 8.436756134033203, Accuracy: 3.125, Val Loss: 5.538557052612305, Val Accuracy: 29.44444465637207\n",
      "Iteration 160, Epoch 10, Loss: 0.19883675873279572, Accuracy: 96.57030487060547, Val Loss: 2.782085418701172, Val Accuracy: 64.30555725097656\n",
      "Iteration 0, Epoch 1, Loss: 10.419665336608887, Accuracy: 7.8125, Val Loss: 7.397895336151123, Val Accuracy: 8.05555534362793\n",
      "Iteration 160, Epoch 10, Loss: 0.7724636793136597, Accuracy: 84.00784301757812, Val Loss: 3.7447612285614014, Val Accuracy: 52.361114501953125\n",
      "Iteration 0, Epoch 1, Loss: 12.340938568115234, Accuracy: 9.375, Val Loss: 5.128238201141357, Val Accuracy: 11.111111640930176\n",
      "Iteration 160, Epoch 10, Loss: 0.927422285079956, Accuracy: 76.04115295410156, Val Loss: 2.672970771789551, Val Accuracy: 52.08333206176758\n",
      "Iteration 0, Epoch 1, Loss: 8.472030639648438, Accuracy: 12.5, Val Loss: 7.145247936248779, Val Accuracy: 11.38888931274414\n",
      "Iteration 160, Epoch 10, Loss: 3.752326250076294, Accuracy: 33.73836135864258, Val Loss: 4.142451763153076, Val Accuracy: 37.77777862548828\n",
      "Iteration 0, Epoch 1, Loss: 10.007353782653809, Accuracy: 6.25, Val Loss: 4.025087833404541, Val Accuracy: 35.27777862548828\n",
      "Iteration 160, Epoch 10, Loss: 0.17949402332305908, Accuracy: 96.88388061523438, Val Loss: 2.0291802883148193, Val Accuracy: 66.94444274902344\n",
      "Iteration 0, Epoch 1, Loss: 9.751335144042969, Accuracy: 4.6875, Val Loss: 6.483609676361084, Val Accuracy: 10.277777671813965\n",
      "Iteration 160, Epoch 10, Loss: 0.6781632900238037, Accuracy: 85.71288299560547, Val Loss: 3.2909891605377197, Val Accuracy: 53.61111068725586\n",
      "Iteration 0, Epoch 1, Loss: 8.758946418762207, Accuracy: 10.9375, Val Loss: 4.679039001464844, Val Accuracy: 11.111111640930176\n",
      "Iteration 160, Epoch 10, Loss: 0.9088529944419861, Accuracy: 77.34444427490234, Val Loss: 2.4378576278686523, Val Accuracy: 52.499996185302734\n",
      "Iteration 0, Epoch 1, Loss: 8.551240921020508, Accuracy: 14.0625, Val Loss: 6.414411544799805, Val Accuracy: 11.666666984558105\n",
      "Iteration 160, Epoch 10, Loss: 3.393498659133911, Accuracy: 37.08966064453125, Val Loss: 3.6908881664276123, Val Accuracy: 41.666664123535156\n",
      "Iteration 0, Epoch 1, Loss: 8.877182006835938, Accuracy: 15.625, Val Loss: 3.912989616394043, Val Accuracy: 37.77777862548828\n",
      "Iteration 160, Epoch 10, Loss: 0.2401627004146576, Accuracy: 95.49240112304688, Val Loss: 1.9814471006393433, Val Accuracy: 67.91666412353516\n",
      "Iteration 0, Epoch 1, Loss: 9.3641357421875, Accuracy: 6.25, Val Loss: 5.539819717407227, Val Accuracy: 12.5\n",
      "Iteration 160, Epoch 10, Loss: 0.9623467326164246, Accuracy: 79.79421997070312, Val Loss: 2.81107234954834, Val Accuracy: 55.27777862548828\n",
      "Iteration 0, Epoch 1, Loss: 13.113662719726562, Accuracy: 9.375, Val Loss: 5.966882705688477, Val Accuracy: 16.11111068725586\n",
      "Iteration 160, Epoch 10, Loss: 1.4377686977386475, Accuracy: 70.18128967285156, Val Loss: 3.060406446456909, Val Accuracy: 56.11111068725586\n",
      "Iteration 0, Epoch 1, Loss: 10.146915435791016, Accuracy: 6.25, Val Loss: 6.330694198608398, Val Accuracy: 7.777778148651123\n",
      "Iteration 160, Epoch 10, Loss: 5.066905975341797, Accuracy: 22.175403594970703, Val Loss: 3.6905505657196045, Val Accuracy: 37.36111068725586\n",
      "Iteration 0, Epoch 1, Loss: 9.865068435668945, Accuracy: 14.0625, Val Loss: 4.5402140617370605, Val Accuracy: 26.38888931274414\n",
      "Iteration 160, Epoch 10, Loss: 0.24279576539993286, Accuracy: 95.15924072265625, Val Loss: 2.3038084506988525, Val Accuracy: 62.36111068725586\n",
      "Iteration 0, Epoch 1, Loss: 10.860241889953613, Accuracy: 10.9375, Val Loss: 6.455915451049805, Val Accuracy: 15.555556297302246\n",
      "Iteration 160, Epoch 10, Loss: 0.9435439705848694, Accuracy: 81.4208755493164, Val Loss: 3.273259162902832, Val Accuracy: 56.25\n",
      "Iteration 0, Epoch 1, Loss: 12.45993423461914, Accuracy: 10.9375, Val Loss: 5.888635158538818, Val Accuracy: 20.27777671813965\n",
      "Iteration 160, Epoch 10, Loss: 1.2826446294784546, Accuracy: 73.4933853149414, Val Loss: 3.013258934020996, Val Accuracy: 57.5\n",
      "Iteration 0, Epoch 1, Loss: 13.00239372253418, Accuracy: 9.375, Val Loss: 12.37052059173584, Val Accuracy: 10.833333015441895\n",
      "Iteration 160, Epoch 10, Loss: 5.486481189727783, Accuracy: 26.35962677001953, Val Loss: 6.686990261077881, Val Accuracy: 41.38888931274414\n",
      "Iteration 0, Epoch 1, Loss: 12.686920166015625, Accuracy: 7.8125, Val Loss: 9.525226593017578, Val Accuracy: 22.5\n",
      "Iteration 160, Epoch 10, Loss: 0.3080805540084839, Accuracy: 95.59039306640625, Val Loss: 4.778046607971191, Val Accuracy: 60.833335876464844\n",
      "Iteration 0, Epoch 1, Loss: 9.792098045349121, Accuracy: 9.375, Val Loss: 5.761824131011963, Val Accuracy: 13.61111068725586\n",
      "Iteration 160, Epoch 10, Loss: 0.6060963273048401, Accuracy: 87.88829040527344, Val Loss: 2.9227983951568604, Val Accuracy: 55.41666793823242\n",
      "Iteration 0, Epoch 1, Loss: 7.744118690490723, Accuracy: 20.3125, Val Loss: 4.351275444030762, Val Accuracy: 29.16666603088379\n",
      "Iteration 160, Epoch 10, Loss: 0.6402405500411987, Accuracy: 83.23371124267578, Val Loss: 2.271416664123535, Val Accuracy: 61.66666793823242\n",
      "Iteration 0, Epoch 1, Loss: 9.647218704223633, Accuracy: 7.8125, Val Loss: 7.7975172996521, Val Accuracy: 11.111111640930176\n",
      "Iteration 160, Epoch 10, Loss: 2.7241382598876953, Accuracy: 45.63449478149414, Val Loss: 4.272867679595947, Val Accuracy: 44.58333206176758\n",
      "Iteration 0, Epoch 1, Loss: 13.4219970703125, Accuracy: 9.375, Val Loss: 15.928413391113281, Val Accuracy: 20.0\n",
      "Iteration 160, Epoch 10, Loss: 0.43175482749938965, Accuracy: 94.32630920410156, Val Loss: 7.989725589752197, Val Accuracy: 59.4444465637207\n",
      "Iteration 0, Epoch 1, Loss: 11.060026168823242, Accuracy: 12.5, Val Loss: 6.593507289886475, Val Accuracy: 15.277777671813965\n",
      "Iteration 160, Epoch 10, Loss: 0.6574137210845947, Accuracy: 86.80059051513672, Val Loss: 3.3469536304473877, Val Accuracy: 56.25\n",
      "Iteration 0, Epoch 1, Loss: 10.221891403198242, Accuracy: 14.0625, Val Loss: 5.170243740081787, Val Accuracy: 23.61111068725586\n",
      "Iteration 160, Epoch 10, Loss: 0.7062129378318787, Accuracy: 82.39098358154297, Val Loss: 2.64530873298645, Val Accuracy: 60.833335876464844\n",
      "Iteration 0, Epoch 1, Loss: 8.711381912231445, Accuracy: 15.625, Val Loss: 7.202461242675781, Val Accuracy: 13.05555534362793\n",
      "Iteration 160, Epoch 10, Loss: 2.9824821949005127, Accuracy: 46.29103088378906, Val Loss: 3.8756799697875977, Val Accuracy: 48.61111068725586\n",
      "Iteration 0, Epoch 1, Loss: 12.877092361450195, Accuracy: 12.5, Val Loss: 6.110279083251953, Val Accuracy: 34.16666793823242\n",
      "Iteration 160, Epoch 10, Loss: 0.39979448914527893, Accuracy: 91.13179779052734, Val Loss: 3.06862735748291, Val Accuracy: 66.52777862548828\n",
      "Iteration 0, Epoch 1, Loss: 12.541515350341797, Accuracy: 15.625, Val Loss: 7.305624485015869, Val Accuracy: 17.77777862548828\n",
      "Iteration 160, Epoch 10, Loss: 1.0347741842269897, Accuracy: 80.30377197265625, Val Loss: 3.7056362628936768, Val Accuracy: 57.63888931274414\n",
      "Iteration 0, Epoch 1, Loss: 11.447540283203125, Accuracy: 7.8125, Val Loss: 5.379401683807373, Val Accuracy: 14.44444465637207\n",
      "Iteration 160, Epoch 10, Loss: 1.099022388458252, Accuracy: 71.8863296508789, Val Loss: 2.780683755874634, Val Accuracy: 54.72222137451172\n",
      "Iteration 0, Epoch 1, Loss: 10.462783813476562, Accuracy: 10.9375, Val Loss: 8.241912841796875, Val Accuracy: 8.05555534362793\n",
      "Iteration 160, Epoch 10, Loss: 3.899480104446411, Accuracy: 34.23811721801758, Val Loss: 4.498302459716797, Val Accuracy: 41.80555725097656\n",
      "Iteration 0, Epoch 1, Loss: 13.169185638427734, Accuracy: 9.375, Val Loss: 3.8946268558502197, Val Accuracy: 37.5\n",
      "Iteration 160, Epoch 10, Loss: 0.35875561833381653, Accuracy: 92.4644775390625, Val Loss: 1.9710899591445923, Val Accuracy: 67.91666412353516\n",
      "Iteration 0, Epoch 1, Loss: 12.520753860473633, Accuracy: 6.25, Val Loss: 7.266872882843018, Val Accuracy: 6.388889312744141\n",
      "Iteration 160, Epoch 10, Loss: 0.9387894868850708, Accuracy: 80.22537994384766, Val Loss: 3.6877355575561523, Val Accuracy: 51.111114501953125\n",
      "Iteration 0, Epoch 1, Loss: 14.629653930664062, Accuracy: 17.1875, Val Loss: 5.454706192016602, Val Accuracy: 16.94444465637207\n",
      "Iteration 160, Epoch 10, Loss: 0.9573079943656921, Accuracy: 77.38363647460938, Val Loss: 2.801345109939575, Val Accuracy: 56.25\n",
      "Iteration 0, Epoch 1, Loss: 13.807920455932617, Accuracy: 6.25, Val Loss: 8.261451721191406, Val Accuracy: 9.166666984558105\n",
      "Iteration 160, Epoch 10, Loss: 3.5200881958007812, Accuracy: 38.91230010986328, Val Loss: 4.511494159698486, Val Accuracy: 42.63888931274414\n",
      "Iteration 0, Epoch 1, Loss: 12.704524993896484, Accuracy: 17.1875, Val Loss: 12.710350036621094, Val Accuracy: 45.55555725097656\n",
      "Iteration 160, Epoch 10, Loss: 0.5243552327156067, Accuracy: 95.47280883789062, Val Loss: 6.3709869384765625, Val Accuracy: 72.22222137451172\n",
      "Iteration 0, Epoch 1, Loss: 9.366677284240723, Accuracy: 14.0625, Val Loss: 4.854549407958984, Val Accuracy: 22.5\n",
      "Iteration 160, Epoch 10, Loss: 0.4675319492816925, Accuracy: 91.29838562011719, Val Loss: 2.4778642654418945, Val Accuracy: 59.86111068725586\n",
      "Iteration 0, Epoch 1, Loss: 9.904123306274414, Accuracy: 7.8125, Val Loss: 5.007511615753174, Val Accuracy: 17.77777862548828\n",
      "Iteration 160, Epoch 10, Loss: 0.7017266750335693, Accuracy: 83.80205535888672, Val Loss: 2.561317205429077, Val Accuracy: 57.08333206176758\n",
      "Iteration 0, Epoch 1, Loss: 9.593385696411133, Accuracy: 18.75, Val Loss: 9.983855247497559, Val Accuracy: 11.38888931274414\n",
      "Iteration 160, Epoch 10, Loss: 3.169400453567505, Accuracy: 44.15482711791992, Val Loss: 5.360447406768799, Val Accuracy: 43.75\n",
      "Iteration 0, Epoch 1, Loss: 14.811424255371094, Accuracy: 4.6875, Val Loss: 13.12041187286377, Val Accuracy: 30.27777671813965\n",
      "Iteration 160, Epoch 10, Loss: 0.395877867937088, Accuracy: 95.64918518066406, Val Loss: 6.579838275909424, Val Accuracy: 64.30555725097656\n",
      "Iteration 0, Epoch 1, Loss: 9.078512191772461, Accuracy: 15.625, Val Loss: 5.476421356201172, Val Accuracy: 16.38888931274414\n",
      "Iteration 160, Epoch 10, Loss: 0.48153719305992126, Accuracy: 91.09260559082031, Val Loss: 2.7712037563323975, Val Accuracy: 57.22222137451172\n",
      "Iteration 0, Epoch 1, Loss: 9.976284980773926, Accuracy: 6.25, Val Loss: 6.427312850952148, Val Accuracy: 12.5\n",
      "Iteration 160, Epoch 10, Loss: 0.7408793568611145, Accuracy: 82.92993927001953, Val Loss: 3.2950336933135986, Val Accuracy: 53.61111068725586\n",
      "Iteration 0, Epoch 1, Loss: 9.025672912597656, Accuracy: 0.0, Val Loss: 7.313222885131836, Val Accuracy: 9.166666984558105\n",
      "Iteration 160, Epoch 10, Loss: 2.842777729034424, Accuracy: 45.654090881347656, Val Loss: 3.939763069152832, Val Accuracy: 45.55555725097656\n",
      "Iteration 0, Epoch 1, Loss: 12.273176193237305, Accuracy: 3.125, Val Loss: 12.030852317810059, Val Accuracy: 29.16666603088379\n",
      "Iteration 160, Epoch 10, Loss: 0.353243887424469, Accuracy: 95.21803283691406, Val Loss: 6.028083801269531, Val Accuracy: 64.30555725097656\n",
      "Iteration 0, Epoch 1, Loss: 13.313228607177734, Accuracy: 7.8125, Val Loss: 5.700486660003662, Val Accuracy: 7.222222328186035\n",
      "Iteration 160, Epoch 10, Loss: 0.7360820770263672, Accuracy: 86.29103088378906, Val Loss: 2.8886349201202393, Val Accuracy: 52.361114501953125\n",
      "Iteration 0, Epoch 1, Loss: 12.826465606689453, Accuracy: 14.0625, Val Loss: 6.160386562347412, Val Accuracy: 14.722222328186035\n",
      "Iteration 160, Epoch 10, Loss: 0.9873947501182556, Accuracy: 78.76531219482422, Val Loss: 3.161351442337036, Val Accuracy: 55.0\n",
      "Iteration 0, Epoch 1, Loss: 13.699803352355957, Accuracy: 10.9375, Val Loss: 7.289212703704834, Val Accuracy: 8.611111640930176\n",
      "Iteration 160, Epoch 10, Loss: 3.662599563598633, Accuracy: 43.410091400146484, Val Loss: 3.9331209659576416, Val Accuracy: 44.58333206176758\n",
      "Iteration 0, Epoch 1, Loss: 13.658626556396484, Accuracy: 17.1875, Val Loss: 8.827205657958984, Val Accuracy: 33.88888931274414\n",
      "Iteration 160, Epoch 10, Loss: 0.34751805663108826, Accuracy: 95.15924072265625, Val Loss: 4.4395318031311035, Val Accuracy: 65.97222137451172\n",
      "Iteration 0, Epoch 1, Loss: 12.420435905456543, Accuracy: 7.8125, Val Loss: 6.425692081451416, Val Accuracy: 12.5\n",
      "Iteration 160, Epoch 10, Loss: 0.8183749914169312, Accuracy: 85.3993148803711, Val Loss: 3.2555644512176514, Val Accuracy: 55.138885498046875\n",
      "Iteration 0, Epoch 1, Loss: 10.911622047424316, Accuracy: 18.75, Val Loss: 6.218568801879883, Val Accuracy: 15.000000953674316\n",
      "Iteration 160, Epoch 10, Loss: 0.9827215671539307, Accuracy: 79.09848022460938, Val Loss: 3.165656805038452, Val Accuracy: 55.69444274902344\n",
      "Iteration 0, Epoch 1, Loss: 11.902360916137695, Accuracy: 12.5, Val Loss: 8.439229011535645, Val Accuracy: 5.555555820465088\n",
      "Iteration 160, Epoch 10, Loss: 4.147375583648682, Accuracy: 40.23517990112305, Val Loss: 4.496179580688477, Val Accuracy: 45.0\n",
      "Iteration 0, Epoch 1, Loss: 8.238628387451172, Accuracy: 18.75, Val Loss: 7.488712787628174, Val Accuracy: 31.94444465637207\n",
      "Iteration 160, Epoch 10, Loss: 0.2537201941013336, Accuracy: 95.59039306640625, Val Loss: 3.767591714859009, Val Accuracy: 65.55555725097656\n",
      "Iteration 0, Epoch 1, Loss: 11.717039108276367, Accuracy: 7.8125, Val Loss: 6.272098541259766, Val Accuracy: 15.833333015441895\n",
      "Iteration 160, Epoch 10, Loss: 0.5638497471809387, Accuracy: 88.87799835205078, Val Loss: 3.1702182292938232, Val Accuracy: 56.527774810791016\n",
      "Iteration 0, Epoch 1, Loss: 9.545675277709961, Accuracy: 9.375, Val Loss: 4.457310199737549, Val Accuracy: 15.555556297302246\n",
      "Iteration 160, Epoch 10, Loss: 0.6073189377784729, Accuracy: 84.08623504638672, Val Loss: 2.289405107498169, Val Accuracy: 55.972225189208984\n",
      "Iteration 0, Epoch 1, Loss: 9.039172172546387, Accuracy: 7.8125, Val Loss: 6.881566524505615, Val Accuracy: 10.0\n",
      "Iteration 160, Epoch 10, Loss: 2.4024312496185303, Accuracy: 46.17344284057617, Val Loss: 3.713768720626831, Val Accuracy: 46.25\n",
      "Iteration 0, Epoch 1, Loss: 7.485620498657227, Accuracy: 7.8125, Val Loss: 8.886143684387207, Val Accuracy: 31.111112594604492\n",
      "Iteration 160, Epoch 10, Loss: 0.2537733316421509, Accuracy: 95.72758483886719, Val Loss: 4.459929943084717, Val Accuracy: 65.0\n",
      "Iteration 0, Epoch 1, Loss: 11.533251762390137, Accuracy: 4.6875, Val Loss: 5.679614543914795, Val Accuracy: 18.05555534362793\n",
      "Iteration 160, Epoch 10, Loss: 0.562232494354248, Accuracy: 89.07398223876953, Val Loss: 2.8779423236846924, Val Accuracy: 57.77777862548828\n",
      "Iteration 0, Epoch 1, Loss: 10.593221664428711, Accuracy: 4.6875, Val Loss: 6.275064945220947, Val Accuracy: 15.000000953674316\n",
      "Iteration 160, Epoch 10, Loss: 0.6667264103889465, Accuracy: 83.77265930175781, Val Loss: 3.2113373279571533, Val Accuracy: 55.69444274902344\n",
      "Iteration 0, Epoch 1, Loss: 12.048810005187988, Accuracy: 6.25, Val Loss: 9.957196235656738, Val Accuracy: 11.111111640930176\n",
      "Iteration 160, Epoch 10, Loss: 2.4111075401306152, Accuracy: 49.70112609863281, Val Loss: 5.234097957611084, Val Accuracy: 47.63888931274414\n",
      "Iteration 0, Epoch 1, Loss: 12.641740798950195, Accuracy: 6.25, Val Loss: 7.256791591644287, Val Accuracy: 21.38888931274414\n",
      "Iteration 160, Epoch 10, Loss: 0.33637380599975586, Accuracy: 93.00342559814453, Val Loss: 3.6455347537994385, Val Accuracy: 60.000003814697266\n",
      "Iteration 0, Epoch 1, Loss: 12.941370010375977, Accuracy: 7.8125, Val Loss: 6.286766052246094, Val Accuracy: 10.0\n",
      "Iteration 160, Epoch 10, Loss: 0.8459715247154236, Accuracy: 83.76286315917969, Val Loss: 3.183802604675293, Val Accuracy: 53.333335876464844\n",
      "Iteration 0, Epoch 1, Loss: 13.70166015625, Accuracy: 6.25, Val Loss: 3.9931230545043945, Val Accuracy: 19.16666603088379\n",
      "Iteration 160, Epoch 10, Loss: 0.9082120060920715, Accuracy: 77.68740844726562, Val Loss: 2.0592916011810303, Val Accuracy: 57.63888931274414\n",
      "Iteration 0, Epoch 1, Loss: 14.997320175170898, Accuracy: 7.8125, Val Loss: 10.43786907196045, Val Accuracy: 8.88888931274414\n",
      "Iteration 160, Epoch 10, Loss: 3.811018466949463, Accuracy: 39.882408142089844, Val Loss: 5.501108646392822, Val Accuracy: 44.16666793823242\n",
      "Iteration 0, Epoch 1, Loss: 14.095733642578125, Accuracy: 9.375, Val Loss: 8.055804252624512, Val Accuracy: 42.77777862548828\n",
      "Iteration 160, Epoch 10, Loss: 0.4224597215652466, Accuracy: 92.08230590820312, Val Loss: 4.052369594573975, Val Accuracy: 70.27777862548828\n",
      "Iteration 0, Epoch 1, Loss: 10.749671936035156, Accuracy: 10.9375, Val Loss: 5.8449273109436035, Val Accuracy: 13.88888931274414\n",
      "Iteration 160, Epoch 10, Loss: 0.728063702583313, Accuracy: 84.19402313232422, Val Loss: 2.9735047817230225, Val Accuracy: 55.55555725097656\n",
      "Iteration 0, Epoch 1, Loss: 9.805639266967773, Accuracy: 9.375, Val Loss: 4.032024383544922, Val Accuracy: 20.833332061767578\n",
      "Iteration 160, Epoch 10, Loss: 0.8101993203163147, Accuracy: 78.95149230957031, Val Loss: 2.0979316234588623, Val Accuracy: 58.1944465637207\n",
      "Iteration 0, Epoch 1, Loss: 11.68244743347168, Accuracy: 3.125, Val Loss: 7.7566819190979, Val Accuracy: 5.277777671813965\n",
      "Iteration 160, Epoch 10, Loss: 3.5291831493377686, Accuracy: 38.44194030761719, Val Loss: 4.259716510772705, Val Accuracy: 42.22222137451172\n",
      "Iteration 0, Epoch 1, Loss: 9.398204803466797, Accuracy: 9.375, Val Loss: 8.60190486907959, Val Accuracy: 25.27777862548828\n",
      "Iteration 160, Epoch 10, Loss: 0.289711058139801, Accuracy: 96.3645248413086, Val Loss: 4.331476211547852, Val Accuracy: 61.66666793823242\n",
      "Iteration 0, Epoch 1, Loss: 10.064325332641602, Accuracy: 3.125, Val Loss: 5.4575018882751465, Val Accuracy: 15.833333015441895\n",
      "Iteration 160, Epoch 10, Loss: 0.451139360666275, Accuracy: 91.58255767822266, Val Loss: 2.761075735092163, Val Accuracy: 56.80555725097656\n",
      "Iteration 0, Epoch 1, Loss: 7.898131847381592, Accuracy: 12.5, Val Loss: 4.59059476852417, Val Accuracy: 16.11111068725586\n",
      "Iteration 160, Epoch 10, Loss: 0.5601696968078613, Accuracy: 85.15433502197266, Val Loss: 2.3485937118530273, Val Accuracy: 56.11111068725586\n",
      "Iteration 0, Epoch 1, Loss: 8.822250366210938, Accuracy: 18.75, Val Loss: 9.067082405090332, Val Accuracy: 11.666666984558105\n",
      "Iteration 160, Epoch 10, Loss: 2.5750765800476074, Accuracy: 49.26996612548828, Val Loss: 4.793614387512207, Val Accuracy: 47.08333206176758\n",
      "Iteration 0, Epoch 1, Loss: 9.909834861755371, Accuracy: 9.375, Val Loss: 6.749301910400391, Val Accuracy: 42.5\n",
      "Iteration 160, Epoch 10, Loss: 0.24559177458286285, Accuracy: 96.62910461425781, Val Loss: 3.3972256183624268, Val Accuracy: 70.41666412353516\n",
      "Iteration 0, Epoch 1, Loss: 10.118581771850586, Accuracy: 6.25, Val Loss: 6.016058444976807, Val Accuracy: 10.55555534362793\n",
      "Iteration 160, Epoch 10, Loss: 0.4473985433578491, Accuracy: 91.63155364990234, Val Loss: 3.0380141735076904, Val Accuracy: 54.16666793823242\n",
      "Iteration 0, Epoch 1, Loss: 12.738388061523438, Accuracy: 12.5, Val Loss: 5.296399116516113, Val Accuracy: 18.61111068725586\n",
      "Iteration 160, Epoch 10, Loss: 0.631217360496521, Accuracy: 85.56590270996094, Val Loss: 2.6975576877593994, Val Accuracy: 58.05555725097656\n",
      "Iteration 0, Epoch 1, Loss: 8.692798614501953, Accuracy: 9.375, Val Loss: 7.7918243408203125, Val Accuracy: 5.555555820465088\n",
      "Iteration 160, Epoch 10, Loss: 2.587232828140259, Accuracy: 47.96668243408203, Val Loss: 4.144809246063232, Val Accuracy: 44.30555725097656\n",
      "Iteration 0, Epoch 1, Loss: 12.561861038208008, Accuracy: 14.0625, Val Loss: 10.458727836608887, Val Accuracy: 19.16666603088379\n",
      "Iteration 160, Epoch 10, Loss: 0.35672715306282043, Accuracy: 94.5712890625, Val Loss: 5.2588582038879395, Val Accuracy: 58.47222137451172\n",
      "Iteration 0, Epoch 1, Loss: 11.952072143554688, Accuracy: 4.6875, Val Loss: 4.55100679397583, Val Accuracy: 12.222222328186035\n",
      "Iteration 160, Epoch 10, Loss: 0.5579851865768433, Accuracy: 89.0641860961914, Val Loss: 2.298443078994751, Val Accuracy: 55.138885498046875\n",
      "Iteration 0, Epoch 1, Loss: 9.40804672241211, Accuracy: 6.25, Val Loss: 4.055900573730469, Val Accuracy: 15.000000953674316\n",
      "Iteration 160, Epoch 10, Loss: 0.8206071853637695, Accuracy: 80.44096374511719, Val Loss: 2.1047070026397705, Val Accuracy: 55.0\n",
      "Iteration 0, Epoch 1, Loss: 11.869867324829102, Accuracy: 9.375, Val Loss: 6.646326065063477, Val Accuracy: 11.94444465637207\n",
      "Iteration 160, Epoch 10, Loss: 3.5308549404144287, Accuracy: 40.901519775390625, Val Loss: 3.5637571811676025, Val Accuracy: 48.33333206176758\n",
      "Iteration 0, Epoch 1, Loss: 8.149502754211426, Accuracy: 14.0625, Val Loss: 4.169227600097656, Val Accuracy: 41.94444274902344\n",
      "Iteration 160, Epoch 10, Loss: 0.19390657544136047, Accuracy: 96.11954498291016, Val Loss: 2.1033012866973877, Val Accuracy: 70.1388931274414\n",
      "Iteration 0, Epoch 1, Loss: 9.452437400817871, Accuracy: 18.75, Val Loss: 4.958693981170654, Val Accuracy: 21.94444465637207\n",
      "Iteration 160, Epoch 10, Loss: 0.5562321543693542, Accuracy: 89.33856201171875, Val Loss: 2.5033767223358154, Val Accuracy: 60.27777862548828\n",
      "Iteration 0, Epoch 1, Loss: 12.550029754638672, Accuracy: 6.25, Val Loss: 4.3738813400268555, Val Accuracy: 17.22222328186035\n",
      "Iteration 160, Epoch 10, Loss: 0.8006700873374939, Accuracy: 80.8231201171875, Val Loss: 2.265392541885376, Val Accuracy: 56.25\n",
      "Iteration 0, Epoch 1, Loss: 11.08171272277832, Accuracy: 18.75, Val Loss: 6.910857677459717, Val Accuracy: 5.277777671813965\n",
      "Iteration 160, Epoch 10, Loss: 3.6445908546447754, Accuracy: 42.05781555175781, Val Loss: 3.7127935886383057, Val Accuracy: 44.86111068725586\n",
      "\n",
      "Best accuracy: 97.0381\n",
      "Best parameters: {'num_filters': 32, 'kernel_size': (5, 5), 'dense_units': 256, 'dropout_rate': 0.3, 'regularizer': <keras.src.regularizers.regularizers.L2 object at 0x7f53f42ea8d0>, 'loss_fn': 'sparse_categorical_crossentropy', 'optimizer': 'adam', 'learning_rate': 0.001, 'test_acc': <tf.Tensor: shape=(), dtype=float32, numpy=97.03806>}\n"
     ]
    }
   ],
   "execution_count": 20
  },
  {
   "cell_type": "markdown",
   "metadata": {},
   "source": [
    "Опишите все эксперименты, результаты. Сделайте выводы."
   ]
  },
  {
   "cell_type": "code",
   "metadata": {},
   "source": [
    "import pandas as pd\n",
    "\n"
   ],
   "outputs": [],
   "execution_count": null
  }
 ],
 "metadata": {
  "kernelspec": {
   "display_name": "Python 3",
   "language": "python",
   "name": "python3"
  },
  "language_info": {
   "codemirror_mode": {
    "name": "ipython",
    "version": 3
   },
   "file_extension": ".py",
   "mimetype": "text/x-python",
   "name": "python",
   "nbconvert_exporter": "python",
   "pygments_lexer": "ipython3",
   "version": "3.7.4"
  }
 },
 "nbformat": 4,
 "nbformat_minor": 2
}
